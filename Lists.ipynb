{
 "cells": [
  {
   "cell_type": "markdown",
   "id": "50dfaeaf-8a8c-47fd-8955-0125499251ec",
   "metadata": {},
   "source": [
    "**Basic representtion**"
   ]
  },
  {
   "cell_type": "markdown",
   "id": "be54178d-9e3e-4858-893b-55bb0eb48845",
   "metadata": {},
   "source": [
    "- string elements is in quotes\n",
    "- list elements is in square brackets"
   ]
  },
  {
   "cell_type": "code",
   "execution_count": 3,
   "id": "1f3476d3-6105-496a-8500-f7c0e474864d",
   "metadata": {},
   "outputs": [
    {
     "data": {
      "text/plain": [
       "[1, 2, 3, 4, 5]"
      ]
     },
     "execution_count": 3,
     "metadata": {},
     "output_type": "execute_result"
    }
   ],
   "source": [
    "list1=[1,2,3,4,5]\n",
    "list1"
   ]
  },
  {
   "cell_type": "code",
   "execution_count": 4,
   "id": "615921de-adf5-4609-8f3c-23380d6d6ddd",
   "metadata": {},
   "outputs": [
    {
     "data": {
      "text/plain": [
       "list"
      ]
     },
     "execution_count": 4,
     "metadata": {},
     "output_type": "execute_result"
    }
   ],
   "source": [
    "type(list1)"
   ]
  },
  {
   "cell_type": "code",
   "execution_count": 5,
   "id": "a7c3ec2c-79e4-422d-9e33-906c27afa61c",
   "metadata": {},
   "outputs": [
    {
     "data": {
      "text/plain": [
       "['A', 'B', 'C']"
      ]
     },
     "execution_count": 5,
     "metadata": {},
     "output_type": "execute_result"
    }
   ],
   "source": [
    "list2=['A','B','C']\n",
    "list2"
   ]
  },
  {
   "cell_type": "code",
   "execution_count": 6,
   "id": "7d1a2a7b-85b4-4b11-bddf-4f34d539335e",
   "metadata": {},
   "outputs": [
    {
     "data": {
      "text/plain": [
       "['A', 'B', 'C', 1, 2]"
      ]
     },
     "execution_count": 6,
     "metadata": {},
     "output_type": "execute_result"
    }
   ],
   "source": [
    "list2=['A','B','C',1,2]\n",
    "list2"
   ]
  },
  {
   "cell_type": "code",
   "execution_count": 8,
   "id": "3ae8bb4a-658c-459c-91ca-d1d58710afbf",
   "metadata": {},
   "outputs": [
    {
     "data": {
      "text/plain": [
       "[1, 2, 'y']"
      ]
     },
     "execution_count": 8,
     "metadata": {},
     "output_type": "execute_result"
    }
   ],
   "source": [
    "list1=[1,2,'y']\n",
    "list1"
   ]
  },
  {
   "cell_type": "code",
   "execution_count": 9,
   "id": "2534572f-3e76-452f-b470-8828460bab99",
   "metadata": {},
   "outputs": [
    {
     "data": {
      "text/plain": [
       "['a', 'b', 'c']"
      ]
     },
     "execution_count": 9,
     "metadata": {},
     "output_type": "execute_result"
    }
   ],
   "source": [
    "list2=['a','b','c']\n",
    "list2"
   ]
  },
  {
   "cell_type": "code",
   "execution_count": 10,
   "id": "3847d047-fb21-4e3c-b88e-7e16619b66d3",
   "metadata": {},
   "outputs": [
    {
     "data": {
      "text/plain": [
       "['a', 'b', 'c', 1, 2, 3]"
      ]
     },
     "execution_count": 10,
     "metadata": {},
     "output_type": "execute_result"
    }
   ],
   "source": [
    "list2=['a','b','c',1,2,3]\n",
    "list2"
   ]
  },
  {
   "cell_type": "code",
   "execution_count": 12,
   "id": "3abe21ee-0810-4dd6-b4f9-bad8210076e4",
   "metadata": {},
   "outputs": [
    {
     "data": {
      "text/plain": [
       "[10, 20, 30, 'apple', 'banana', 'cherry']"
      ]
     },
     "execution_count": 12,
     "metadata": {},
     "output_type": "execute_result"
    }
   ],
   "source": [
    "list4=[10,20,30,'apple','banana','cherry']\n",
    "list4"
   ]
  },
  {
   "cell_type": "code",
   "execution_count": 13,
   "id": "8eb7eadc-6a54-4034-8399-8cddd13404eb",
   "metadata": {},
   "outputs": [
    {
     "data": {
      "text/plain": [
       "[10, 10, 10]"
      ]
     },
     "execution_count": 13,
     "metadata": {},
     "output_type": "execute_result"
    }
   ],
   "source": [
    "list5=[10,10,10]\n",
    "list5"
   ]
  },
  {
   "cell_type": "code",
   "execution_count": 16,
   "id": "50659026-4b03-4e8b-a8a3-5c8512580156",
   "metadata": {},
   "outputs": [
    {
     "data": {
      "text/plain": [
       "[10, 20, 30, ['apple']]"
      ]
     },
     "execution_count": 16,
     "metadata": {},
     "output_type": "execute_result"
    }
   ],
   "source": [
    "list6=[10,20,30,['apple']]\n",
    "list6"
   ]
  },
  {
   "cell_type": "code",
   "execution_count": 19,
   "id": "5ce72085-9b96-41f7-abc5-9be087bfba51",
   "metadata": {},
   "outputs": [
    {
     "data": {
      "text/plain": [
       "['python']"
      ]
     },
     "execution_count": 19,
     "metadata": {},
     "output_type": "execute_result"
    }
   ],
   "source": [
    "name='python'\n",
    "list5=[name]\n",
    "list5"
   ]
  },
  {
   "cell_type": "code",
   "execution_count": 18,
   "id": "9155c14a-ca2b-4b7e-901e-063d9b3c29c2",
   "metadata": {},
   "outputs": [
    {
     "data": {
      "text/plain": [
       "[['python']]"
      ]
     },
     "execution_count": 18,
     "metadata": {},
     "output_type": "execute_result"
    }
   ],
   "source": [
    "name='python'\n",
    "list5=[name]\n",
    "list6=[_]\n",
    "list6\n",
    "\n"
   ]
  },
  {
   "cell_type": "code",
   "execution_count": null,
   "id": "c7bbfc72-5ef6-4398-8474-ca451d209ba4",
   "metadata": {},
   "outputs": [],
   "source": [
    "list1=[10,20,2,5,75]\n",
    "list2=['apple','APPLE','CHERRY','cherry']\n",
    "list3=[10,20,2,5,75,'apple','APPLE','CHERRY','cherry']"
   ]
  },
  {
   "cell_type": "code",
   "execution_count": 20,
   "id": "38e912df-071e-4f30-86a4-051da4b311c4",
   "metadata": {},
   "outputs": [
    {
     "data": {
      "text/plain": [
       "5"
      ]
     },
     "execution_count": 20,
     "metadata": {},
     "output_type": "execute_result"
    }
   ],
   "source": [
    "list1=[10,20,2,5,75]\n",
    "len(list1)"
   ]
  },
  {
   "cell_type": "code",
   "execution_count": 21,
   "id": "5bf961b6-e578-49b2-be06-e972d35c22dd",
   "metadata": {},
   "outputs": [
    {
     "data": {
      "text/plain": [
       "4"
      ]
     },
     "execution_count": 21,
     "metadata": {},
     "output_type": "execute_result"
    }
   ],
   "source": [
    "list2=['apple','APPLE','CHERRY','cherry']\n",
    "len(list2)"
   ]
  },
  {
   "cell_type": "code",
   "execution_count": 22,
   "id": "ec212717-9a75-4553-b760-0178ed7b382f",
   "metadata": {},
   "outputs": [
    {
     "data": {
      "text/plain": [
       "9"
      ]
     },
     "execution_count": 22,
     "metadata": {},
     "output_type": "execute_result"
    }
   ],
   "source": [
    "list3=[10,20,2,5,75,'apple','APPLE','CHERRY','cherry']\n",
    "len(list3)"
   ]
  },
  {
   "cell_type": "code",
   "execution_count": 23,
   "id": "97b33cc5-d22d-464d-bc69-e7d5eddfb574",
   "metadata": {},
   "outputs": [
    {
     "data": {
      "text/plain": [
       "75"
      ]
     },
     "execution_count": 23,
     "metadata": {},
     "output_type": "execute_result"
    }
   ],
   "source": [
    "list1=[10,20,2,5,75]\n",
    "max(list1)"
   ]
  },
  {
   "cell_type": "code",
   "execution_count": 24,
   "id": "cc5a77a7-97e5-4bd3-b772-bbd2a8d59268",
   "metadata": {},
   "outputs": [
    {
     "data": {
      "text/plain": [
       "'cherry'"
      ]
     },
     "execution_count": 24,
     "metadata": {},
     "output_type": "execute_result"
    }
   ],
   "source": [
    "list2=['apple','APPLE','CHERRY','cherry']\n",
    "max(list2)"
   ]
  },
  {
   "cell_type": "code",
   "execution_count": 26,
   "id": "5174ccb9-3fbd-41ee-a53f-70b2592d2eaa",
   "metadata": {},
   "outputs": [
    {
     "ename": "TypeError",
     "evalue": "'>' not supported between instances of 'str' and 'int'",
     "output_type": "error",
     "traceback": [
      "\u001b[1;31m---------------------------------------------------------------------------\u001b[0m",
      "\u001b[1;31mTypeError\u001b[0m                                 Traceback (most recent call last)",
      "Cell \u001b[1;32mIn[26], line 2\u001b[0m\n\u001b[0;32m      1\u001b[0m list3\u001b[38;5;241m=\u001b[39m[\u001b[38;5;241m10\u001b[39m,\u001b[38;5;241m20\u001b[39m,\u001b[38;5;241m2\u001b[39m,\u001b[38;5;241m5\u001b[39m,\u001b[38;5;241m75\u001b[39m,\u001b[38;5;124m'\u001b[39m\u001b[38;5;124mapple\u001b[39m\u001b[38;5;124m'\u001b[39m,\u001b[38;5;124m'\u001b[39m\u001b[38;5;124mAPPLE\u001b[39m\u001b[38;5;124m'\u001b[39m,\u001b[38;5;124m'\u001b[39m\u001b[38;5;124mCHERRY\u001b[39m\u001b[38;5;124m'\u001b[39m,\u001b[38;5;124m'\u001b[39m\u001b[38;5;124mcherry\u001b[39m\u001b[38;5;124m'\u001b[39m]\n\u001b[1;32m----> 2\u001b[0m \u001b[38;5;28mmax\u001b[39m(list3)\n",
      "\u001b[1;31mTypeError\u001b[0m: '>' not supported between instances of 'str' and 'int'"
     ]
    }
   ],
   "source": [
    "list3=[10,20,2,5,75,'apple','APPLE','CHERRY','cherry']\n",
    "max(list3)"
   ]
  },
  {
   "cell_type": "code",
   "execution_count": 27,
   "id": "67f3e830-9159-447a-a2fe-61b57c0821cd",
   "metadata": {},
   "outputs": [
    {
     "ename": "TypeError",
     "evalue": "'<' not supported between instances of 'str' and 'int'",
     "output_type": "error",
     "traceback": [
      "\u001b[1;31m---------------------------------------------------------------------------\u001b[0m",
      "\u001b[1;31mTypeError\u001b[0m                                 Traceback (most recent call last)",
      "Cell \u001b[1;32mIn[27], line 2\u001b[0m\n\u001b[0;32m      1\u001b[0m list3\u001b[38;5;241m=\u001b[39m[\u001b[38;5;241m10\u001b[39m,\u001b[38;5;241m20\u001b[39m,\u001b[38;5;241m2\u001b[39m,\u001b[38;5;241m5\u001b[39m,\u001b[38;5;241m75\u001b[39m,\u001b[38;5;124m'\u001b[39m\u001b[38;5;124mapple\u001b[39m\u001b[38;5;124m'\u001b[39m,\u001b[38;5;124m'\u001b[39m\u001b[38;5;124mAPPLE\u001b[39m\u001b[38;5;124m'\u001b[39m,\u001b[38;5;124m'\u001b[39m\u001b[38;5;124mCHERRY\u001b[39m\u001b[38;5;124m'\u001b[39m,\u001b[38;5;124m'\u001b[39m\u001b[38;5;124mcherry\u001b[39m\u001b[38;5;124m'\u001b[39m]\n\u001b[1;32m----> 2\u001b[0m \u001b[38;5;28mmin\u001b[39m(list3)\n",
      "\u001b[1;31mTypeError\u001b[0m: '<' not supported between instances of 'str' and 'int'"
     ]
    }
   ],
   "source": [
    "list3=[10,20,2,5,75,'apple','APPLE','CHERRY','cherry']\n",
    "min(list3)"
   ]
  },
  {
   "cell_type": "code",
   "execution_count": 28,
   "id": "f4878fc5-6b28-47fd-a3e1-4c72497cb84b",
   "metadata": {},
   "outputs": [
    {
     "data": {
      "text/plain": [
       "'APPLE'"
      ]
     },
     "execution_count": 28,
     "metadata": {},
     "output_type": "execute_result"
    }
   ],
   "source": [
    "list2=['apple','APPLE','CHERRY','cherry']\n",
    "min(list2)"
   ]
  },
  {
   "cell_type": "code",
   "execution_count": 29,
   "id": "36d674ca-16ab-4bf3-96e3-81f4fe3ed6c0",
   "metadata": {},
   "outputs": [
    {
     "data": {
      "text/plain": [
       "2"
      ]
     },
     "execution_count": 29,
     "metadata": {},
     "output_type": "execute_result"
    }
   ],
   "source": [
    "list1=[10,20,2,5,75]\n",
    "min(list1)"
   ]
  },
  {
   "cell_type": "code",
   "execution_count": 30,
   "id": "3c2f0a3e-90e4-4dc4-b0c5-70d54878ef50",
   "metadata": {},
   "outputs": [
    {
     "data": {
      "text/plain": [
       "112"
      ]
     },
     "execution_count": 30,
     "metadata": {},
     "output_type": "execute_result"
    }
   ],
   "source": [
    "list1=[10,20,2,5,75]\n",
    "sum(list1)"
   ]
  },
  {
   "cell_type": "code",
   "execution_count": 31,
   "id": "c6e4415d-ec53-484d-b5f2-0dbcc4a3c62c",
   "metadata": {},
   "outputs": [
    {
     "ename": "TypeError",
     "evalue": "unsupported operand type(s) for +: 'int' and 'str'",
     "output_type": "error",
     "traceback": [
      "\u001b[1;31m---------------------------------------------------------------------------\u001b[0m",
      "\u001b[1;31mTypeError\u001b[0m                                 Traceback (most recent call last)",
      "Cell \u001b[1;32mIn[31], line 2\u001b[0m\n\u001b[0;32m      1\u001b[0m list2\u001b[38;5;241m=\u001b[39m[\u001b[38;5;124m'\u001b[39m\u001b[38;5;124mapple\u001b[39m\u001b[38;5;124m'\u001b[39m,\u001b[38;5;124m'\u001b[39m\u001b[38;5;124mAPPLE\u001b[39m\u001b[38;5;124m'\u001b[39m,\u001b[38;5;124m'\u001b[39m\u001b[38;5;124mCHERRY\u001b[39m\u001b[38;5;124m'\u001b[39m,\u001b[38;5;124m'\u001b[39m\u001b[38;5;124mcherry\u001b[39m\u001b[38;5;124m'\u001b[39m]\n\u001b[1;32m----> 2\u001b[0m \u001b[38;5;28msum\u001b[39m(list2)\n",
      "\u001b[1;31mTypeError\u001b[0m: unsupported operand type(s) for +: 'int' and 'str'"
     ]
    }
   ],
   "source": [
    "list2=['apple','APPLE','CHERRY','cherry']\n",
    "sum(list2)"
   ]
  },
  {
   "cell_type": "code",
   "execution_count": 32,
   "id": "94148cbc-02e9-45fb-be1a-f1ed9035b503",
   "metadata": {},
   "outputs": [
    {
     "ename": "TypeError",
     "evalue": "unsupported operand type(s) for +: 'int' and 'str'",
     "output_type": "error",
     "traceback": [
      "\u001b[1;31m---------------------------------------------------------------------------\u001b[0m",
      "\u001b[1;31mTypeError\u001b[0m                                 Traceback (most recent call last)",
      "Cell \u001b[1;32mIn[32], line 2\u001b[0m\n\u001b[0;32m      1\u001b[0m list3\u001b[38;5;241m=\u001b[39m[\u001b[38;5;241m10\u001b[39m,\u001b[38;5;241m20\u001b[39m,\u001b[38;5;241m2\u001b[39m,\u001b[38;5;241m5\u001b[39m,\u001b[38;5;241m75\u001b[39m,\u001b[38;5;124m'\u001b[39m\u001b[38;5;124mapple\u001b[39m\u001b[38;5;124m'\u001b[39m,\u001b[38;5;124m'\u001b[39m\u001b[38;5;124mAPPLE\u001b[39m\u001b[38;5;124m'\u001b[39m,\u001b[38;5;124m'\u001b[39m\u001b[38;5;124mCHERRY\u001b[39m\u001b[38;5;124m'\u001b[39m,\u001b[38;5;124m'\u001b[39m\u001b[38;5;124mcherry\u001b[39m\u001b[38;5;124m'\u001b[39m]\n\u001b[1;32m----> 2\u001b[0m \u001b[38;5;28msum\u001b[39m(list3)\n",
      "\u001b[1;31mTypeError\u001b[0m: unsupported operand type(s) for +: 'int' and 'str'"
     ]
    }
   ],
   "source": [
    "list3=[10,20,2,5,75,'apple','APPLE','CHERRY','cherry']\n",
    "sum(list3)"
   ]
  },
  {
   "cell_type": "code",
   "execution_count": 33,
   "id": "63f5d3eb-4839-4156-834f-792ca651d5c3",
   "metadata": {},
   "outputs": [
    {
     "data": {
      "text/plain": [
       "list"
      ]
     },
     "execution_count": 33,
     "metadata": {},
     "output_type": "execute_result"
    }
   ],
   "source": [
    "list3=[10,20,2,5,75,'apple','APPLE','CHERRY','cherry']\n",
    "type(list3)"
   ]
  },
  {
   "cell_type": "code",
   "execution_count": 35,
   "id": "3a15e036-1a9d-4016-825c-4da54944789b",
   "metadata": {},
   "outputs": [
    {
     "data": {
      "text/plain": [
       "list"
      ]
     },
     "execution_count": 35,
     "metadata": {},
     "output_type": "execute_result"
    }
   ],
   "source": [
    "list2=['apple','APPLE','CHERRY','cherry']\n",
    "type(list2)"
   ]
  },
  {
   "cell_type": "code",
   "execution_count": 36,
   "id": "67c95762-38dc-46da-ad54-2b3929b07cd1",
   "metadata": {},
   "outputs": [
    {
     "data": {
      "text/plain": [
       "list"
      ]
     },
     "execution_count": 36,
     "metadata": {},
     "output_type": "execute_result"
    }
   ],
   "source": [
    "list1=[10,20,2,5,75]\n",
    "type(list1)"
   ]
  },
  {
   "cell_type": "code",
   "execution_count": 37,
   "id": "567f4ea3-1abf-466e-acc2-e463c6040b32",
   "metadata": {},
   "outputs": [
    {
     "name": "stdout",
     "output_type": "stream",
     "text": [
      "[10, 20, 2, 5, 75]\n"
     ]
    }
   ],
   "source": [
    "list1=[10,20,2,5,75]\n",
    "print(list1)"
   ]
  },
  {
   "cell_type": "code",
   "execution_count": 38,
   "id": "010c08b5-ccca-46e4-9e53-fe5bbdf02831",
   "metadata": {},
   "outputs": [
    {
     "name": "stdout",
     "output_type": "stream",
     "text": [
      "['apple', 'APPLE', 'CHERRY', 'cherry']\n"
     ]
    }
   ],
   "source": [
    "list2=['apple','APPLE','CHERRY','cherry']\n",
    "print(list2)"
   ]
  },
  {
   "cell_type": "code",
   "execution_count": 39,
   "id": "5c9ac56c-e4ed-449c-90c0-6880f99c0ba0",
   "metadata": {},
   "outputs": [
    {
     "name": "stdout",
     "output_type": "stream",
     "text": [
      "[10, 20, 2, 5, 75, 'apple', 'APPLE', 'CHERRY', 'cherry']\n"
     ]
    }
   ],
   "source": [
    "list3=[10,20,2,5,75,'apple','APPLE','CHERRY','cherry']\n",
    "print(list3)"
   ]
  },
  {
   "cell_type": "code",
   "execution_count": 40,
   "id": "3a258c13-e880-400b-b827-ca2373226cda",
   "metadata": {},
   "outputs": [
    {
     "data": {
      "text/plain": [
       "[2, 5, 10, 20, 75]"
      ]
     },
     "execution_count": 40,
     "metadata": {},
     "output_type": "execute_result"
    }
   ],
   "source": [
    "list1=[10,20,2,5,75]  #less than to greater than\n",
    "sorted(list1)"
   ]
  },
  {
   "cell_type": "code",
   "execution_count": 41,
   "id": "d43beba9-7274-425c-a342-302f7cfde56b",
   "metadata": {},
   "outputs": [
    {
     "data": {
      "text/plain": [
       "['APPLE', 'CHERRY', 'apple', 'cherry']"
      ]
     },
     "execution_count": 41,
     "metadata": {},
     "output_type": "execute_result"
    }
   ],
   "source": [
    "list2=['apple','APPLE','CHERRY','cherry']\n",
    "sorted(list2)"
   ]
  },
  {
   "cell_type": "code",
   "execution_count": 42,
   "id": "cd478676-8f92-4bec-82fe-1510be1ac092",
   "metadata": {},
   "outputs": [
    {
     "ename": "TypeError",
     "evalue": "'<' not supported between instances of 'str' and 'int'",
     "output_type": "error",
     "traceback": [
      "\u001b[1;31m---------------------------------------------------------------------------\u001b[0m",
      "\u001b[1;31mTypeError\u001b[0m                                 Traceback (most recent call last)",
      "Cell \u001b[1;32mIn[42], line 2\u001b[0m\n\u001b[0;32m      1\u001b[0m list3\u001b[38;5;241m=\u001b[39m[\u001b[38;5;241m10\u001b[39m,\u001b[38;5;241m20\u001b[39m,\u001b[38;5;241m2\u001b[39m,\u001b[38;5;241m5\u001b[39m,\u001b[38;5;241m75\u001b[39m,\u001b[38;5;124m'\u001b[39m\u001b[38;5;124mapple\u001b[39m\u001b[38;5;124m'\u001b[39m,\u001b[38;5;124m'\u001b[39m\u001b[38;5;124mAPPLE\u001b[39m\u001b[38;5;124m'\u001b[39m,\u001b[38;5;124m'\u001b[39m\u001b[38;5;124mCHERRY\u001b[39m\u001b[38;5;124m'\u001b[39m,\u001b[38;5;124m'\u001b[39m\u001b[38;5;124mcherry\u001b[39m\u001b[38;5;124m'\u001b[39m]\n\u001b[1;32m----> 2\u001b[0m \u001b[38;5;28msorted\u001b[39m(list3)\n",
      "\u001b[1;31mTypeError\u001b[0m: '<' not supported between instances of 'str' and 'int'"
     ]
    }
   ],
   "source": [
    "list3=[10,20,2,5,75,'apple','APPLE','CHERRY','cherry']\n",
    "sorted(list3)"
   ]
  },
  {
   "cell_type": "code",
   "execution_count": 52,
   "id": "51f5cae4-a47d-4386-83ba-130982e8172d",
   "metadata": {},
   "outputs": [
    {
     "data": {
      "text/plain": [
       "[75, 5, 2, 20, 10]"
      ]
     },
     "execution_count": 52,
     "metadata": {},
     "output_type": "execute_result"
    }
   ],
   "source": [
    "list1=[10,20,2,5,75]\n",
    "list(reversed(list1))"
   ]
  },
  {
   "cell_type": "code",
   "execution_count": 49,
   "id": "56dbf711-7959-4bdf-ba78-1b799dda269b",
   "metadata": {},
   "outputs": [
    {
     "name": "stdout",
     "output_type": "stream",
     "text": [
      "75\n",
      "5\n",
      "2\n",
      "20\n",
      "10\n"
     ]
    }
   ],
   "source": [
    "list1=[10,20,2,5,75]\n",
    "num=reversed(list1)\n",
    "for i in num:\n",
    "    print(i)"
   ]
  },
  {
   "cell_type": "code",
   "execution_count": 50,
   "id": "17536e53-0a69-4626-8924-82004aee1f1d",
   "metadata": {},
   "outputs": [
    {
     "name": "stdout",
     "output_type": "stream",
     "text": [
      "cherry\n",
      "CHERRY\n",
      "APPLE\n",
      "apple\n"
     ]
    }
   ],
   "source": [
    "list2=['apple','APPLE','CHERRY','cherry']\n",
    "num=reversed(list2)\n",
    "for i in num:\n",
    "    print(i)"
   ]
  },
  {
   "cell_type": "code",
   "execution_count": 51,
   "id": "7dd8f138-af58-48c7-ad1e-06b873386d00",
   "metadata": {},
   "outputs": [
    {
     "name": "stdout",
     "output_type": "stream",
     "text": [
      "cherry\n",
      "CHERRY\n",
      "APPLE\n",
      "apple\n",
      "75\n",
      "5\n",
      "2\n",
      "20\n",
      "10\n"
     ]
    }
   ],
   "source": [
    "list3=[10,20,2,5,75,'apple','APPLE','CHERRY','cherry']\n",
    "num=reversed(list3)\n",
    "for i in num:\n",
    "    print(i)"
   ]
  },
  {
   "cell_type": "code",
   "execution_count": null,
   "id": "06bc89e8-16de-4c1f-9c5a-f96c46c6eff2",
   "metadata": {},
   "outputs": [],
   "source": [
    "#in the interview \n",
    "#list1=[10,20,2,5,75]\n",
    "# sort the list without sorted function\n",
    "#sum the list without sum function\n",
    "#max the list without max function\n",
    "#min the list without min function\n",
    "#reverse the list without reverse function"
   ]
  },
  {
   "cell_type": "markdown",
   "id": "a7af97ba-c39a-4e9d-9fc4-806734970efe",
   "metadata": {},
   "source": [
    "**concatenation**"
   ]
  },
  {
   "cell_type": "code",
   "execution_count": 53,
   "id": "bbc3ef69-0442-41c6-adce-987f2803be3d",
   "metadata": {},
   "outputs": [
    {
     "data": {
      "text/plain": [
       "[10, 20, 2, 5, 75, 'apple', 'APPLE', 'CHERRY', 'cherry']"
      ]
     },
     "execution_count": 53,
     "metadata": {},
     "output_type": "execute_result"
    }
   ],
   "source": [
    "list1=[10,20,2,5,75]\n",
    "list2=['apple','APPLE','CHERRY','cherry']\n",
    "list1+list2"
   ]
  },
  {
   "cell_type": "code",
   "execution_count": 54,
   "id": "ce6b2745-00ae-479b-812e-e420ce30d758",
   "metadata": {},
   "outputs": [
    {
     "ename": "TypeError",
     "evalue": "unsupported operand type(s) for -: 'list' and 'list'",
     "output_type": "error",
     "traceback": [
      "\u001b[1;31m---------------------------------------------------------------------------\u001b[0m",
      "\u001b[1;31mTypeError\u001b[0m                                 Traceback (most recent call last)",
      "Cell \u001b[1;32mIn[54], line 3\u001b[0m\n\u001b[0;32m      1\u001b[0m list1\u001b[38;5;241m=\u001b[39m[\u001b[38;5;241m10\u001b[39m,\u001b[38;5;241m20\u001b[39m,\u001b[38;5;241m2\u001b[39m,\u001b[38;5;241m5\u001b[39m,\u001b[38;5;241m75\u001b[39m]\n\u001b[0;32m      2\u001b[0m list2\u001b[38;5;241m=\u001b[39m[\u001b[38;5;124m'\u001b[39m\u001b[38;5;124mapple\u001b[39m\u001b[38;5;124m'\u001b[39m,\u001b[38;5;124m'\u001b[39m\u001b[38;5;124mAPPLE\u001b[39m\u001b[38;5;124m'\u001b[39m,\u001b[38;5;124m'\u001b[39m\u001b[38;5;124mCHERRY\u001b[39m\u001b[38;5;124m'\u001b[39m,\u001b[38;5;124m'\u001b[39m\u001b[38;5;124mcherry\u001b[39m\u001b[38;5;124m'\u001b[39m]\n\u001b[1;32m----> 3\u001b[0m list1\u001b[38;5;241m-\u001b[39mlist2\n",
      "\u001b[1;31mTypeError\u001b[0m: unsupported operand type(s) for -: 'list' and 'list'"
     ]
    }
   ],
   "source": [
    "list1=[10,20,2,5,75]\n",
    "list2=['apple','APPLE','CHERRY','cherry']\n",
    "list1-list2"
   ]
  },
  {
   "cell_type": "code",
   "execution_count": 55,
   "id": "8d981d75-a6d6-404b-93b0-4c08fe1b8b5b",
   "metadata": {},
   "outputs": [
    {
     "ename": "TypeError",
     "evalue": "can't multiply sequence by non-int of type 'list'",
     "output_type": "error",
     "traceback": [
      "\u001b[1;31m---------------------------------------------------------------------------\u001b[0m",
      "\u001b[1;31mTypeError\u001b[0m                                 Traceback (most recent call last)",
      "Cell \u001b[1;32mIn[55], line 3\u001b[0m\n\u001b[0;32m      1\u001b[0m list1\u001b[38;5;241m=\u001b[39m[\u001b[38;5;241m10\u001b[39m,\u001b[38;5;241m20\u001b[39m,\u001b[38;5;241m2\u001b[39m,\u001b[38;5;241m5\u001b[39m,\u001b[38;5;241m75\u001b[39m]\n\u001b[0;32m      2\u001b[0m list2\u001b[38;5;241m=\u001b[39m[\u001b[38;5;124m'\u001b[39m\u001b[38;5;124mapple\u001b[39m\u001b[38;5;124m'\u001b[39m,\u001b[38;5;124m'\u001b[39m\u001b[38;5;124mAPPLE\u001b[39m\u001b[38;5;124m'\u001b[39m,\u001b[38;5;124m'\u001b[39m\u001b[38;5;124mCHERRY\u001b[39m\u001b[38;5;124m'\u001b[39m,\u001b[38;5;124m'\u001b[39m\u001b[38;5;124mcherry\u001b[39m\u001b[38;5;124m'\u001b[39m]\n\u001b[1;32m----> 3\u001b[0m list1\u001b[38;5;241m*\u001b[39mlist2\n",
      "\u001b[1;31mTypeError\u001b[0m: can't multiply sequence by non-int of type 'list'"
     ]
    }
   ],
   "source": [
    "list1=[10,20,2,5,75]\n",
    "list2=['apple','APPLE','CHERRY','cherry']\n",
    "list1*list2"
   ]
  },
  {
   "cell_type": "code",
   "execution_count": 56,
   "id": "4a458514-8eb6-4a10-8101-0e7ecedbdd5e",
   "metadata": {},
   "outputs": [
    {
     "ename": "TypeError",
     "evalue": "unsupported operand type(s) for /: 'list' and 'list'",
     "output_type": "error",
     "traceback": [
      "\u001b[1;31m---------------------------------------------------------------------------\u001b[0m",
      "\u001b[1;31mTypeError\u001b[0m                                 Traceback (most recent call last)",
      "Cell \u001b[1;32mIn[56], line 3\u001b[0m\n\u001b[0;32m      1\u001b[0m list1\u001b[38;5;241m=\u001b[39m[\u001b[38;5;241m10\u001b[39m,\u001b[38;5;241m20\u001b[39m,\u001b[38;5;241m2\u001b[39m,\u001b[38;5;241m5\u001b[39m,\u001b[38;5;241m75\u001b[39m]\n\u001b[0;32m      2\u001b[0m list2\u001b[38;5;241m=\u001b[39m[\u001b[38;5;124m'\u001b[39m\u001b[38;5;124mapple\u001b[39m\u001b[38;5;124m'\u001b[39m,\u001b[38;5;124m'\u001b[39m\u001b[38;5;124mAPPLE\u001b[39m\u001b[38;5;124m'\u001b[39m,\u001b[38;5;124m'\u001b[39m\u001b[38;5;124mCHERRY\u001b[39m\u001b[38;5;124m'\u001b[39m,\u001b[38;5;124m'\u001b[39m\u001b[38;5;124mcherry\u001b[39m\u001b[38;5;124m'\u001b[39m]\n\u001b[1;32m----> 3\u001b[0m list1\u001b[38;5;241m/\u001b[39mlist2\n",
      "\u001b[1;31mTypeError\u001b[0m: unsupported operand type(s) for /: 'list' and 'list'"
     ]
    }
   ],
   "source": [
    "list1=[10,20,2,5,75]\n",
    "list2=['apple','APPLE','CHERRY','cherry']\n",
    "list1/list2"
   ]
  },
  {
   "cell_type": "code",
   "execution_count": 57,
   "id": "60510bdd-971f-42da-aded-e4ff20248be8",
   "metadata": {},
   "outputs": [
    {
     "data": {
      "text/plain": [
       "[10, 20, 2, 5, 75, 10, 20, 2, 5, 75]"
      ]
     },
     "execution_count": 57,
     "metadata": {},
     "output_type": "execute_result"
    }
   ],
   "source": [
    "list1=[10,20,2,5,75]\n",
    "list2=['apple','APPLE','CHERRY','cherry']\n",
    "list1*2"
   ]
  },
  {
   "cell_type": "code",
   "execution_count": 58,
   "id": "d0a4944e-31c6-421b-bf42-fbb0d8481a8c",
   "metadata": {},
   "outputs": [
    {
     "ename": "TypeError",
     "evalue": "unsupported operand type(s) for -: 'list' and 'int'",
     "output_type": "error",
     "traceback": [
      "\u001b[1;31m---------------------------------------------------------------------------\u001b[0m",
      "\u001b[1;31mTypeError\u001b[0m                                 Traceback (most recent call last)",
      "Cell \u001b[1;32mIn[58], line 3\u001b[0m\n\u001b[0;32m      1\u001b[0m list1\u001b[38;5;241m=\u001b[39m[\u001b[38;5;241m10\u001b[39m,\u001b[38;5;241m20\u001b[39m,\u001b[38;5;241m2\u001b[39m,\u001b[38;5;241m5\u001b[39m,\u001b[38;5;241m75\u001b[39m]\n\u001b[0;32m      2\u001b[0m list2\u001b[38;5;241m=\u001b[39m[\u001b[38;5;124m'\u001b[39m\u001b[38;5;124mapple\u001b[39m\u001b[38;5;124m'\u001b[39m,\u001b[38;5;124m'\u001b[39m\u001b[38;5;124mAPPLE\u001b[39m\u001b[38;5;124m'\u001b[39m,\u001b[38;5;124m'\u001b[39m\u001b[38;5;124mCHERRY\u001b[39m\u001b[38;5;124m'\u001b[39m,\u001b[38;5;124m'\u001b[39m\u001b[38;5;124mcherry\u001b[39m\u001b[38;5;124m'\u001b[39m]\n\u001b[1;32m----> 3\u001b[0m list1\u001b[38;5;241m-\u001b[39m\u001b[38;5;241m2\u001b[39m\n",
      "\u001b[1;31mTypeError\u001b[0m: unsupported operand type(s) for -: 'list' and 'int'"
     ]
    }
   ],
   "source": [
    "list1=[10,20,2,5,75]\n",
    "list2=['apple','APPLE','CHERRY','cherry']\n",
    "list1-2"
   ]
  },
  {
   "cell_type": "markdown",
   "id": "98da6d10-8ebf-46ee-92ec-cafda11e9077",
   "metadata": {},
   "source": [
    "**index**"
   ]
  },
  {
   "cell_type": "code",
   "execution_count": 62,
   "id": "bddb048b-c5b0-44ba-9f61-fc182ffea8c1",
   "metadata": {},
   "outputs": [
    {
     "data": {
      "text/plain": [
       "(10, 10)"
      ]
     },
     "execution_count": 62,
     "metadata": {},
     "output_type": "execute_result"
    }
   ],
   "source": [
    "#-6 -5 -4 -3 -2 -1\n",
    "#10 20 30  a  b  c\n",
    "# 0  1  2  3  4  5\n",
    "list1=[10,20,30,'a','b','c']\n",
    "list1[0],list1[-6]"
   ]
  },
  {
   "cell_type": "code",
   "execution_count": 63,
   "id": "bcd7a65f-290a-4b04-8daf-f5c1a8d87d82",
   "metadata": {},
   "outputs": [
    {
     "name": "stdout",
     "output_type": "stream",
     "text": [
      " the posive index of 10 is 0\n",
      " the posive index of 20 is 1\n",
      " the posive index of 30 is 2\n",
      " the posive index of a is 3\n",
      " the posive index of b is 4\n",
      " the posive index of c is 5\n"
     ]
    }
   ],
   "source": [
    "list1=[10,20,30,'a','b','c']\n",
    "for i in range(0,6):\n",
    "    print(f' the posive index of {list1[i]} is {i}')"
   ]
  },
  {
   "cell_type": "code",
   "execution_count": 65,
   "id": "5b86a9c7-2deb-4c23-937c-6bb308f42d4f",
   "metadata": {},
   "outputs": [
    {
     "name": "stdout",
     "output_type": "stream",
     "text": [
      " the negative index of 10 is -6\n",
      " the negative index of 20 is -5\n",
      " the negative index of 30 is -4\n",
      " the negative index of a is -3\n",
      " the negative index of b is -2\n",
      " the negative index of c is -1\n"
     ]
    }
   ],
   "source": [
    "list1=[10,20,30,'a','b','c']\n",
    "for i in range(0,6):\n",
    "    print(f' the negative index of {list1[i]} is {i-6}')"
   ]
  },
  {
   "cell_type": "code",
   "execution_count": 66,
   "id": "cadf18f3-8ccc-4708-8afb-8cb6083052ec",
   "metadata": {},
   "outputs": [
    {
     "name": "stdout",
     "output_type": "stream",
     "text": [
      " the posive index of 10 is 0\n",
      " the negative index of 10 is -6\n",
      " the posive index of 20 is 1\n",
      " the negative index of 20 is -5\n",
      " the posive index of 30 is 2\n",
      " the negative index of 30 is -4\n",
      " the posive index of a is 3\n",
      " the negative index of a is -3\n",
      " the posive index of b is 4\n",
      " the negative index of b is -2\n",
      " the posive index of c is 5\n",
      " the negative index of c is -1\n"
     ]
    }
   ],
   "source": [
    "list1=[10,20,30,'a','b','c']\n",
    "for i in range(0,6):\n",
    "    print(f' the posive index of {list1[i]} is {i}')\n",
    "    print(f' the negative index of {list1[i]} is {i-6}')"
   ]
  },
  {
   "cell_type": "code",
   "execution_count": 67,
   "id": "9d1d5c6a-20c3-46dd-bcae-44129eeb9e4c",
   "metadata": {},
   "outputs": [
    {
     "data": {
      "text/plain": [
       "10"
      ]
     },
     "execution_count": 67,
     "metadata": {},
     "output_type": "execute_result"
    }
   ],
   "source": [
    "list1=[10]\n",
    "list1[0]\n",
    "#how many elements are there :1\n"
   ]
  },
  {
   "cell_type": "code",
   "execution_count": 68,
   "id": "44d6b889-53ca-4985-be80-2fa4f5fc1e20",
   "metadata": {},
   "outputs": [
    {
     "data": {
      "text/plain": [
       "[10]"
      ]
     },
     "execution_count": 68,
     "metadata": {},
     "output_type": "execute_result"
    }
   ],
   "source": [
    "list1=[[10]]\n",
    "list1[0]\n",
    "#how many elements are there :1\n"
   ]
  },
  {
   "cell_type": "code",
   "execution_count": 69,
   "id": "eb64f062-fec0-438c-b453-48d82471fd9d",
   "metadata": {},
   "outputs": [
    {
     "data": {
      "text/plain": [
       "10"
      ]
     },
     "execution_count": 69,
     "metadata": {},
     "output_type": "execute_result"
    }
   ],
   "source": [
    "list1=[[10]]  #[10]\n",
    "list1[0][0]"
   ]
  },
  {
   "cell_type": "code",
   "execution_count": 3,
   "id": "d616b84b-907c-4e69-88e5-036b4ae05afc",
   "metadata": {},
   "outputs": [
    {
     "data": {
      "text/plain": [
       "[20]"
      ]
     },
     "execution_count": 3,
     "metadata": {},
     "output_type": "execute_result"
    }
   ],
   "source": [
    "list2=[10,[20]]\n",
    "list2[1]"
   ]
  },
  {
   "cell_type": "code",
   "execution_count": 5,
   "id": "dc60757c-605c-4e72-ae1c-efad60671774",
   "metadata": {},
   "outputs": [
    {
     "data": {
      "text/plain": [
       "20"
      ]
     },
     "execution_count": 5,
     "metadata": {},
     "output_type": "execute_result"
    }
   ],
   "source": [
    "list2=[10,[20]]\n",
    "list2[1][0]"
   ]
  },
  {
   "cell_type": "code",
   "execution_count": 9,
   "id": "c69c8a72-4150-42df-ab64-42755099b166",
   "metadata": {},
   "outputs": [
    {
     "data": {
      "text/plain": [
       "'Cherry'"
      ]
     },
     "execution_count": 9,
     "metadata": {},
     "output_type": "execute_result"
    }
   ],
   "source": [
    "list1=[10,20,30,'a',['Banana','Cherry']]\n",
    "list1[4][1]"
   ]
  },
  {
   "cell_type": "code",
   "execution_count": 13,
   "id": "f654a219-d069-4f97-af78-87d137cae317",
   "metadata": {},
   "outputs": [
    {
     "data": {
      "text/plain": [
       "'cherry'"
      ]
     },
     "execution_count": 13,
     "metadata": {},
     "output_type": "execute_result"
    }
   ],
   "source": [
    "list1=['a',['Apple','B',['Banana'],'C',['cherry']]]\n",
    "list1[1][4][0]"
   ]
  },
  {
   "cell_type": "code",
   "execution_count": 25,
   "id": "cfdde84e-b24d-49dd-aa98-80af0353739c",
   "metadata": {},
   "outputs": [
    {
     "data": {
      "text/plain": [
       "'Drggon fruit'"
      ]
     },
     "execution_count": 25,
     "metadata": {},
     "output_type": "execute_result"
    }
   ],
   "source": [
    "list1=['a',['Apple','B',['Banana','C',['cherry','D',['Drggon fruit']]]]]\n",
    "list1[1][2][2][2][0]"
   ]
  },
  {
   "cell_type": "code",
   "execution_count": 26,
   "id": "e0831d92-e3f2-4687-a256-ffbd93525789",
   "metadata": {},
   "outputs": [
    {
     "data": {
      "text/plain": [
       "'Bat'"
      ]
     },
     "execution_count": 26,
     "metadata": {},
     "output_type": "execute_result"
    }
   ],
   "source": [
    "list2=['Apple',['Kashmir',['India',['cricket',['Bat']]]]]\n",
    "list2[1][1][1][1][0]"
   ]
  },
  {
   "cell_type": "code",
   "execution_count": 28,
   "id": "a4d9a507-7377-4bc3-be04-ca5d14b905e2",
   "metadata": {},
   "outputs": [
    {
     "data": {
      "text/plain": [
       "'Apple'"
      ]
     },
     "execution_count": 28,
     "metadata": {},
     "output_type": "execute_result"
    }
   ],
   "source": [
    "list2=[[[[[[[[['Apple']]]]]]]]]\n",
    "list2[0][0][0][0][0][0][0][0][0]"
   ]
  },
  {
   "cell_type": "code",
   "execution_count": 2,
   "id": "c09bdecb-5b94-412e-b0a2-bd62f2b42804",
   "metadata": {},
   "outputs": [
    {
     "data": {
      "text/plain": [
       "['Hyd', 'Bengaluru', 'Pune', 'Mumbai']"
      ]
     },
     "execution_count": 2,
     "metadata": {},
     "output_type": "execute_result"
    }
   ],
   "source": [
    "# Q3) input=['hyd','bengaluru','pune','mumbai']\n",
    "#     output=['Hyd','Bengaluru','Pune','Mumbai']\n",
    "\n",
    "input=['hyd','bengaluru','pune','mumbai']\n",
    "output=[]\n",
    "for i in input:\n",
    "    output.append(i.capitalize())\n",
    "output"
   ]
  },
  {
   "cell_type": "code",
   "execution_count": 3,
   "id": "4393cbbf-e454-421f-9b46-1b3905aac6d8",
   "metadata": {},
   "outputs": [
    {
     "data": {
      "text/plain": [
       "['HYD', 'BENGALURU', 'PUNE', 'MUMBAI']"
      ]
     },
     "execution_count": 3,
     "metadata": {},
     "output_type": "execute_result"
    }
   ],
   "source": [
    "# Q4) input=['hyd','bengaluru','pune','mumbai']\n",
    "#     output=['HYD','BENGALURU','PUNE','MUMBAI']\n",
    "\n",
    "input=['hyd','bengaluru','pune','mumbai']\n",
    "output=[]\n",
    "for i in input:\n",
    "    output.append(i.upper())\n",
    "output"
   ]
  },
  {
   "cell_type": "code",
   "execution_count": 1,
   "id": "58dc0ca1-56d3-4ea2-bc59-eb6881393a9e",
   "metadata": {},
   "outputs": [
    {
     "data": {
      "text/plain": [
       "['ben#galuru', 'mu#mbai']"
      ]
     },
     "execution_count": 1,
     "metadata": {},
     "output_type": "execute_result"
    }
   ],
   "source": [
    "# Q5) input=['hyd','ben#galuru','pune','mu#mbai']\n",
    "#     output=[ben#galuru',mu#mbai']\n",
    "\n",
    "input=['hyd','ben#galuru','pune','mu#mbai']\n",
    "output=[]\n",
    "for i in input:\n",
    "    if '#' in i:\n",
    "        output.append(i)\n",
    "output"
   ]
  },
  {
   "cell_type": "code",
   "execution_count": 7,
   "id": "89b490bc-7b0e-443d-801e-6c469b6a6643",
   "metadata": {},
   "outputs": [
    {
     "name": "stdout",
     "output_type": "stream",
     "text": [
      "virat.kohli@rcb.com\n",
      "rohit.sharma@mi.com\n",
      "ms.dhoni@csk.com\n"
     ]
    },
    {
     "data": {
      "text/plain": [
       "(['virat', 'rohit', 'ms'], ['kohli', 'sharma', 'dhoni'], ['rcb', 'mi', 'csk'])"
      ]
     },
     "execution_count": 7,
     "metadata": {},
     "output_type": "execute_result"
    }
   ],
   "source": [
    "# Q8) input='virat.kohli@rcb.com;rohit.sharma@mi.com;ms.dhoni@csk.com'\n",
    "#     fname=['virat','rohit'.'ms']\n",
    "#     sname=['kohli','sharma','dhoni']\n",
    "#     cname=['rcb','mi','csk']\n",
    "\n",
    "input='virat.kohli@rcb.com;rohit.sharma@mi.com;ms.dhoni@csk.com'\n",
    "l=input.split(';')\n",
    "fname=[]\n",
    "sname=[]\n",
    "cname=[]\n",
    "for i in l:\n",
    "    print(i)\n",
    "    id1=i.find('.')\n",
    "    id2=i.find('@')\n",
    "    id3=i.find('.',id1+1)\n",
    "    fname.append(i[:id1])\n",
    "    sname.append(i[id1+1:id2])\n",
    "    cname.append(i[id2+1:id3])\n",
    "fname,sname,cname"
   ]
  },
  {
   "cell_type": "code",
   "execution_count": 10,
   "id": "b8e6616a-bb32-4b19-ab95-901c93a6d252",
   "metadata": {},
   "outputs": [
    {
     "data": {
      "text/plain": [
       "['can:4', 'canner:3', 'you:3', 'not:1', 'with:1', 'but:1', 'the:1']"
      ]
     },
     "execution_count": 10,
     "metadata": {},
     "output_type": "execute_result"
    }
   ],
   "source": [
    "\n",
    "# Q9) input='can canner can you can not canner with you but you can the canner'\n",
    "#     output=['can'-4,'canner'-3,'you'-3,'not'-1,'with'-1,'but'-1,'the'-1]\n",
    "\n",
    "input='can canner can you can not canner with you but you can the canner'\n",
    "l=input.split()\n",
    "l1=[]\n",
    "counter=[]\n",
    "for i in l:\n",
    "    if i not in l1:\n",
    "        counter.append(f'{i}:{l.count(i)}')\n",
    "        l1.append(i)\n",
    "counter"
   ]
  },
  {
   "cell_type": "code",
   "execution_count": 11,
   "id": "7efea274-93dc-40dc-9aba-30eaa2c8859e",
   "metadata": {},
   "outputs": [
    {
     "data": {
      "text/plain": [
       "['__add__',\n",
       " '__class__',\n",
       " '__class_getitem__',\n",
       " '__contains__',\n",
       " '__delattr__',\n",
       " '__delitem__',\n",
       " '__dir__',\n",
       " '__doc__',\n",
       " '__eq__',\n",
       " '__format__',\n",
       " '__ge__',\n",
       " '__getattribute__',\n",
       " '__getitem__',\n",
       " '__getstate__',\n",
       " '__gt__',\n",
       " '__hash__',\n",
       " '__iadd__',\n",
       " '__imul__',\n",
       " '__init__',\n",
       " '__init_subclass__',\n",
       " '__iter__',\n",
       " '__le__',\n",
       " '__len__',\n",
       " '__lt__',\n",
       " '__mul__',\n",
       " '__ne__',\n",
       " '__new__',\n",
       " '__reduce__',\n",
       " '__reduce_ex__',\n",
       " '__repr__',\n",
       " '__reversed__',\n",
       " '__rmul__',\n",
       " '__setattr__',\n",
       " '__setitem__',\n",
       " '__sizeof__',\n",
       " '__str__',\n",
       " '__subclasshook__',\n",
       " 'append',\n",
       " 'clear',\n",
       " 'copy',\n",
       " 'count',\n",
       " 'extend',\n",
       " 'index',\n",
       " 'insert',\n",
       " 'pop',\n",
       " 'remove',\n",
       " 'reverse',\n",
       " 'sort']"
      ]
     },
     "execution_count": 11,
     "metadata": {},
     "output_type": "execute_result"
    }
   ],
   "source": [
    "dir(list)"
   ]
  },
  {
   "cell_type": "markdown",
   "id": "cdeedc08-fda1-4fed-937e-d5294c168859",
   "metadata": {},
   "source": [
    "**extend**"
   ]
  },
  {
   "cell_type": "code",
   "execution_count": 3,
   "id": "cc633b79-751a-429a-ad15-30798d5ec451",
   "metadata": {},
   "outputs": [
    {
     "data": {
      "text/plain": [
       "[1, 2, 3, 4, 5, 'a', 'b', 'c', 'd']"
      ]
     },
     "execution_count": 3,
     "metadata": {},
     "output_type": "execute_result"
    }
   ],
   "source": [
    "l1=[1,2,3,4,5]\n",
    "l2=['a','b','c','d']\n",
    "l1.extend(l2)\n",
    "l1"
   ]
  },
  {
   "cell_type": "code",
   "execution_count": 4,
   "id": "e2699bac-804d-48a2-983e-67f8ff75ffdf",
   "metadata": {},
   "outputs": [
    {
     "data": {
      "text/plain": [
       "['a', 'b', 'c', 'd', 1, 2, 3, 4, 5]"
      ]
     },
     "execution_count": 4,
     "metadata": {},
     "output_type": "execute_result"
    }
   ],
   "source": [
    "l1=[1,2,3,4,5]\n",
    "l2=['a','b','c','d']\n",
    "l2.extend(l1)\n",
    "l2"
   ]
  },
  {
   "cell_type": "code",
   "execution_count": 5,
   "id": "73cb9029-2729-4476-af3c-3691411fa075",
   "metadata": {},
   "outputs": [
    {
     "name": "stdout",
     "output_type": "stream",
     "text": [
      "[1, 2, 3, 4, 5, 'a', 'b', 'c', 'd']\n",
      "[1, 2, 3, 4, 5]\n",
      "['a', 'b', 'c', 'd']\n",
      "l1 will be overwrite if we use extend\n",
      "[1, 2, 3, 4, 5, 'a', 'b', 'c', 'd']\n"
     ]
    }
   ],
   "source": [
    "l1=[1,2,3,4,5]\n",
    "l2=['a','b','c','d']\n",
    "print(l1+l2)\n",
    "print(l1)\n",
    "print(l2)\n",
    "print('l1 will be overwrite if we use extend')\n",
    "l1.extend(l2)\n",
    "print(l1)"
   ]
  },
  {
   "cell_type": "markdown",
   "id": "0d53c2ab-7d9c-4aec-a9cc-ae72fbebb169",
   "metadata": {},
   "source": [
    "**index**"
   ]
  },
  {
   "cell_type": "markdown",
   "id": "01bbca80-6877-4429-be2f-f7474e10b223",
   "metadata": {},
   "source": [
    "- strings we have index and find\n",
    "- but list have only index\n",
    "- same as strings concept"
   ]
  },
  {
   "cell_type": "code",
   "execution_count": 10,
   "id": "1d17c596-8727-4c5b-8e57-98f9ce0f6823",
   "metadata": {},
   "outputs": [
    {
     "name": "stdout",
     "output_type": "stream",
     "text": [
      "8\n"
     ]
    }
   ],
   "source": [
    "l1=[10,20,30,40,50,'APPLE','BANANA','CHERRY',40,50]\n",
    "i1=l1.index(40)\n",
    "print(l1.index(40,i1+1))"
   ]
  },
  {
   "cell_type": "markdown",
   "id": "417c013a-173a-4d0e-ba25-21d4671ebe2e",
   "metadata": {},
   "source": [
    "**insert**"
   ]
  },
  {
   "cell_type": "code",
   "execution_count": 18,
   "id": "62442a1a-dcf6-4bc1-9d19-3c21f7348968",
   "metadata": {},
   "outputs": [
    {
     "data": {
      "text/plain": [
       "[10, 20, 30, 40, 50, 'APPLE', 100, 'BANANA', 'CHERRY', 40, 50]"
      ]
     },
     "execution_count": 18,
     "metadata": {},
     "output_type": "execute_result"
    }
   ],
   "source": [
    "l1=[10,20,30,40,50,'APPLE','BANANA','CHERRY',40,50]\n",
    "#i want insert 100 after index\n",
    "i1=l1.index('APPLE')\n",
    "l1.insert(i1+1,100)\n",
    "l1"
   ]
  },
  {
   "cell_type": "code",
   "execution_count": 19,
   "id": "0a76e2d0-91d3-4686-a12e-89af20d76efc",
   "metadata": {},
   "outputs": [
    {
     "data": {
      "text/plain": [
       "[10, 20, 30, 40, 50, 'APPLE', 'BANANA', 'CHERRY', 40, 50, 100]"
      ]
     },
     "execution_count": 19,
     "metadata": {},
     "output_type": "execute_result"
    }
   ],
   "source": [
    "l1=[10,20,30,40,50,'APPLE','BANANA','CHERRY',40,50]\n",
    "l1.append(100)\n",
    "l1"
   ]
  },
  {
   "cell_type": "markdown",
   "id": "afdc9375-4bb1-47d1-b40f-e092ec0cba70",
   "metadata": {},
   "source": [
    "**pop vs remove**"
   ]
  },
  {
   "cell_type": "code",
   "execution_count": 24,
   "id": "5e8d8da6-fbd3-4f07-8678-ba8d9eaef14c",
   "metadata": {},
   "outputs": [
    {
     "data": {
      "text/plain": [
       "[10, 20, 30, 40, 50, 'APPLE', 'BANANA', 'CHERRY', 40]"
      ]
     },
     "execution_count": 24,
     "metadata": {},
     "output_type": "execute_result"
    }
   ],
   "source": [
    "l1=[10,20,30,40,50,'APPLE','BANANA','CHERRY',40,50]\n",
    "l1.pop()\n",
    "l1"
   ]
  },
  {
   "cell_type": "code",
   "execution_count": 27,
   "id": "d486c573-bec9-4044-a8ee-7da1b59b6aa2",
   "metadata": {},
   "outputs": [
    {
     "data": {
      "text/plain": [
       "[10, 20, 30, 50, 'APPLE', 'BANANA', 'CHERRY', 40, 50]"
      ]
     },
     "execution_count": 27,
     "metadata": {},
     "output_type": "execute_result"
    }
   ],
   "source": [
    "l1=[10,20,30,40,50,'APPLE','BANANA','CHERRY',40,50]\n",
    "l1.remove(40)\n",
    "l1"
   ]
  },
  {
   "cell_type": "code",
   "execution_count": 29,
   "id": "191b8b15-f977-4fba-9825-2f88a237a816",
   "metadata": {},
   "outputs": [
    {
     "data": {
      "text/plain": [
       "[10, 20, 30, 40, 50, 'BANANA', 'CHERRY', 40, 50]"
      ]
     },
     "execution_count": 29,
     "metadata": {},
     "output_type": "execute_result"
    }
   ],
   "source": [
    "l1=[10,20,30,40,50,'APPLE','BANANA','CHERRY',40,50]\n",
    "del(l1[5])\n",
    "l1"
   ]
  },
  {
   "cell_type": "markdown",
   "id": "b554dca9-a05c-42f2-a793-791e012c2667",
   "metadata": {},
   "source": [
    "- if we want delete any element\n",
    "- pop:based on index\n",
    "- remove:based on value\n",
    "- del is an inuilt function"
   ]
  },
  {
   "cell_type": "code",
   "execution_count": 32,
   "id": "3746115f-d360-4beb-a74c-1296e9c2cd65",
   "metadata": {},
   "outputs": [
    {
     "ename": "SyntaxError",
     "evalue": "invalid syntax. Perhaps you forgot a comma? (48835540.py, line 2)",
     "output_type": "error",
     "traceback": [
      "\u001b[1;36m  Cell \u001b[1;32mIn[32], line 2\u001b[1;36m\u001b[0m\n\u001b[1;33m    del(l14[])\u001b[0m\n\u001b[1;37m        ^\u001b[0m\n\u001b[1;31mSyntaxError\u001b[0m\u001b[1;31m:\u001b[0m invalid syntax. Perhaps you forgot a comma?\n"
     ]
    }
   ],
   "source": [
    "l1=[10,20,30,40,50,'APPLE','BANANA','CHERRY',40,50]\n",
    "del(l1)\n",
    "l1"
   ]
  },
  {
   "cell_type": "code",
   "execution_count": 33,
   "id": "deb13046-cf5c-4277-aeb4-f59e81432c04",
   "metadata": {},
   "outputs": [
    {
     "data": {
      "text/plain": [
       "[10, 20, 30, 40, 50, 'BANANA', 'CHERRY', 40, 50]"
      ]
     },
     "execution_count": 33,
     "metadata": {},
     "output_type": "execute_result"
    }
   ],
   "source": [
    "l1=[10,20,30,40,50,'APPLE','BANANA','CHERRY',40,50]\n",
    "del l1[5]  #del(l1[5])\n",
    "l1"
   ]
  },
  {
   "cell_type": "markdown",
   "id": "98242991-3b75-495f-9835-8004b1131760",
   "metadata": {},
   "source": [
    "**revese-reversed**\n",
    "- revrse is a method\n",
    "- reversed is an inbuilt fuction"
   ]
  },
  {
   "cell_type": "code",
   "execution_count": 34,
   "id": "5649fd99-a859-4f33-acd4-4b9870543dcc",
   "metadata": {},
   "outputs": [
    {
     "data": {
      "text/plain": [
       "[50, 40, 'CHERRY', 'BANANA', 'APPLE', 50, 40, 30, 20, 10]"
      ]
     },
     "execution_count": 34,
     "metadata": {},
     "output_type": "execute_result"
    }
   ],
   "source": [
    "l1=[10,20,30,40,50,'APPLE','BANANA','CHERRY',40,50]\n",
    "l1.reverse()\n",
    "l1"
   ]
  },
  {
   "cell_type": "markdown",
   "id": "e5fe83bb-d274-44ea-9e3c-137288dd8c16",
   "metadata": {},
   "source": [
    "**in place**"
   ]
  },
  {
   "cell_type": "markdown",
   "id": "245c59fa-71be-40bc-bec8-e11c6a70b36d",
   "metadata": {},
   "source": [
    "- when we perform the operation some times the values will  not overwrite\n",
    "- if we use **inplace** word or **inplace=True**\n",
    "- this indicates the output will be overwrite in corresponding variable"
   ]
  },
  {
   "cell_type": "code",
   "execution_count": 40,
   "id": "108d5f83-eef7-41ac-96bf-c7f3b685f263",
   "metadata": {},
   "outputs": [
    {
     "name": "stdout",
     "output_type": "stream",
     "text": [
      "[10, 20, 30, 40, 50, 'APPLE', 'BANANA', 'CHERRY', 40, 50]\n"
     ]
    }
   ],
   "source": [
    "l1=[10,20,30,40,50,'APPLE','BANANA','CHERRY',40,50]\n",
    "reversed(l1)\n",
    "print(l1)"
   ]
  },
  {
   "cell_type": "markdown",
   "id": "597aae27-5f82-493e-b986-5bb1c7d08e78",
   "metadata": {},
   "source": [
    "**sort-sorted**"
   ]
  },
  {
   "cell_type": "code",
   "execution_count": 42,
   "id": "b2a8b06f-7e54-4b55-8760-9768fad09113",
   "metadata": {},
   "outputs": [
    {
     "data": {
      "text/plain": [
       "[10, 20, 30, 40, 50]"
      ]
     },
     "execution_count": 42,
     "metadata": {},
     "output_type": "execute_result"
    }
   ],
   "source": [
    "l1=[10,20,30,40,50]\n",
    "l1.sort()\n",
    "l1"
   ]
  },
  {
   "cell_type": "code",
   "execution_count": 43,
   "id": "07cc4fe6-d6f4-4869-bb5d-f6a554e0db78",
   "metadata": {},
   "outputs": [
    {
     "name": "stdout",
     "output_type": "stream",
     "text": [
      "[10, 20, 30, 40, 50]\n"
     ]
    }
   ],
   "source": [
    "l1=[10,20,30,40,50]\n",
    "sorted(l1)\n",
    "print(l1)"
   ]
  },
  {
   "cell_type": "markdown",
   "id": "da4f6137-c79a-4a61-aa17-69b168660d7d",
   "metadata": {},
   "source": [
    "**list comperesion questions**"
   ]
  },
  {
   "cell_type": "code",
   "execution_count": 1,
   "id": "ec58a1cc-4c73-4bcd-ada6-28429c9572c4",
   "metadata": {},
   "outputs": [
    {
     "data": {
      "text/plain": [
       "[76, 89, 53, 67, 90, 82, 99]"
      ]
     },
     "execution_count": 1,
     "metadata": {},
     "output_type": "execute_result"
    }
   ],
   "source": [
    "#list of student marks in python\n",
    "#marks=[45,76,89,53,67,90,82,49,33,99]\n",
    "#filter students who paseed(marks>=50)\n",
    "marks=[45,76,89,53,67,90,82,49,33,99]\n",
    "#for i in marks:\n",
    "#    if i>=50:\n",
    "#print(i)\n",
    "\n",
    "[i for i in marks if i>=50] "
   ]
  },
  {
   "cell_type": "code",
   "execution_count": 2,
   "id": "6ed0f0e3-4010-4a11-b26b-c3a9c2fdaf02",
   "metadata": {},
   "outputs": [
    {
     "name": "stdout",
     "output_type": "stream",
     "text": [
      "45:F\n",
      "76:B\n",
      "89:A\n",
      "53:c\n",
      "67:c\n",
      "90:A\n",
      "82:B\n",
      "49:F\n",
      "33:F\n",
      "99:A\n"
     ]
    }
   ],
   "source": [
    "#calcuate grades for all students\n",
    "marks=[45,76,89,53,67,90,82,49,33,99]\n",
    "#grades=(A:85+,B:70-84,C:50-69,F:<50)\n",
    "for i in marks:\n",
    "    if i>=85:\n",
    "        print(f'{i}:A')\n",
    "    elif i>=70:\n",
    "        print(f'{i}:B')\n",
    "    elif i>=50:\n",
    "        print(f'{i}:c')        \n",
    "    else:\n",
    "        print(f'{i}:F') \n",
    "        "
   ]
  },
  {
   "cell_type": "code",
   "execution_count": null,
   "id": "3591d9fc-b8ae-45ab-ac81-36c79677d343",
   "metadata": {},
   "outputs": [],
   "source": [
    "[f'marks={i}: A grade.' if i>=85\n",
    "else f'marks={i}: B grade.' if i>=70\n",
    "else f'marks={i}: C grade.' if i>=50\n",
    "else f'marks={i}: F grade.'\n"
   ]
  },
  {
   "cell_type": "code",
   "execution_count": 3,
   "id": "5bc2f7b7-085a-4c7e-8ae9-066a5c9965fb",
   "metadata": {},
   "outputs": [
    {
     "data": {
      "text/plain": [
       "[50, 54, 38]"
      ]
     },
     "execution_count": 3,
     "metadata": {},
     "output_type": "execute_result"
    }
   ],
   "source": [
    "#add 5 grace marks to students who failed(<50)\n",
    "#for i in marks:\n",
    "#    if i<50:\n",
    "#        print(i+5)\n",
    "[i+5 for i in marks  if i<50]"
   ]
  },
  {
   "cell_type": "code",
   "execution_count": 4,
   "id": "6a4e1e58-57cf-4dd7-9c39-656e2c244877",
   "metadata": {},
   "outputs": [
    {
     "name": "stdout",
     "output_type": "stream",
     "text": [
      "99\n",
      "90\n",
      "89\n"
     ]
    }
   ],
   "source": [
    "marks=[45,76,89,53,67,90,82,49,33,99]\n",
    "max_value=max(marks)\n",
    "for i in range(3):\n",
    "    max_value=max(marks)\n",
    "    print(max_value)\n",
    "    marks.remove(max_value)"
   ]
  },
  {
   "cell_type": "code",
   "execution_count": 5,
   "id": "5828fe2d-46d3-48fb-80ef-17c85d901fcd",
   "metadata": {},
   "outputs": [
    {
     "name": "stdout",
     "output_type": "stream",
     "text": [
      "the averge marks of the class is:68.3\n"
     ]
    }
   ],
   "source": [
    "#average marks of the class\n",
    "marks=[45,76,89,53,67,90,82,49,33,99]\n",
    "avg=(45+76+89+53+67+90+82+49+33+99)/10\n",
    "print(f'the averge marks of the class is:{avg}')"
   ]
  },
  {
   "cell_type": "code",
   "execution_count": 6,
   "id": "05293c1b-be80-4d11-97b8-44d5961bac14",
   "metadata": {},
   "outputs": [
    {
     "data": {
      "text/plain": [
       "68.3"
      ]
     },
     "execution_count": 6,
     "metadata": {},
     "output_type": "execute_result"
    }
   ],
   "source": [
    "summ=0\n",
    "marks=[45,76,89,53,67,90,82,49,33,99]\n",
    "[summ:=summ+i for i in marks]\n",
    "summ/len(marks)"
   ]
  },
  {
   "cell_type": "markdown",
   "id": "e5355efb-3b0c-4af6-9398-a4a2f38b540f",
   "metadata": {},
   "source": [
    "**distance between two points**"
   ]
  },
  {
   "cell_type": "code",
   "execution_count": 14,
   "id": "f057ec25-bd19-401f-957f-125dbbd5b2be",
   "metadata": {},
   "outputs": [
    {
     "data": {
      "text/plain": [
       "22.360679774997898"
      ]
     },
     "execution_count": 14,
     "metadata": {},
     "output_type": "execute_result"
    }
   ],
   "source": [
    "#l1=[1,2],[4,5],[7,9]]\n",
    "#l2=[10,20]\n",
    "#find the distance between l2 with all other points from l1\n",
    "# which is the maxium distance give me that\n",
    "import math\n",
    "l1=[10,20]\n",
    "l2=[20,40]\n",
    "d1=l2[0]-l1[0]  # x2-x1=20-10=10\n",
    "d1_square=math.pow(d1,2)\n",
    "d2=l2[1]-l1[1]  # x2-x1=20-10=10\n",
    "d2_square=math.pow(d2,2)\n",
    "summ=d1_square+d2_square\n",
    "math.sqrt(summ)"
   ]
  },
  {
   "cell_type": "markdown",
   "id": "37ed090b-7b5b-4791-9b99-00ec075d836b",
   "metadata": {},
   "source": [
    "**list comprehesion**\n"
   ]
  },
  {
   "cell_type": "markdown",
   "id": "cd8446c0-5bc8-457f-bc5e-868b091f3d46",
   "metadata": {},
   "source": [
    "$case-1$:**only for loop**"
   ]
  },
  {
   "cell_type": "code",
   "execution_count": 1,
   "id": "98390882-a9b1-4423-bd3d-b0a2838cc18b",
   "metadata": {},
   "outputs": [
    {
     "data": {
      "text/plain": [
       "[0, 1, 2, 3, 4, 5, 6, 7, 8, 9]"
      ]
     },
     "execution_count": 1,
     "metadata": {},
     "output_type": "execute_result"
    }
   ],
   "source": [
    "list1=[]\n",
    "for i in range(10):\n",
    "    list1.append(i)\n",
    "list1"
   ]
  },
  {
   "cell_type": "code",
   "execution_count": null,
   "id": "61606eda-c70f-4f56-b55d-e32aef1409e8",
   "metadata": {},
   "outputs": [],
   "source": [
    "list1=[<code should write here>]\n",
    "#inside code no need of append\n",
    "list1=[<output var> <forloop>]"
   ]
  },
  {
   "cell_type": "code",
   "execution_count": 2,
   "id": "12b822e9-c388-4be7-ab85-17434f899466",
   "metadata": {},
   "outputs": [
    {
     "data": {
      "text/plain": [
       "[0, 1, 2, 3, 4, 5, 6, 7, 8, 9]"
      ]
     },
     "execution_count": 2,
     "metadata": {},
     "output_type": "execute_result"
    }
   ],
   "source": [
    "list1=[i for i in range(10)]\n",
    "list1"
   ]
  },
  {
   "cell_type": "code",
   "execution_count": 3,
   "id": "b663dea0-9eea-4549-b07c-8a9bad8ec34c",
   "metadata": {},
   "outputs": [
    {
     "data": {
      "text/plain": [
       "['Hyd', 'Benguluru', 'Pune', 'Mumbai']"
      ]
     },
     "execution_count": 3,
     "metadata": {},
     "output_type": "execute_result"
    }
   ],
   "source": [
    "input=['hyd','benguluru','pune','mumbai']\n",
    "output=[]\n",
    "for i in input:\n",
    "    output.append(i.capitalize())\n",
    "output"
   ]
  },
  {
   "cell_type": "code",
   "execution_count": 7,
   "id": "295f7449-4203-4381-aaa1-64f517abc675",
   "metadata": {},
   "outputs": [
    {
     "data": {
      "text/plain": [
       "['Hyd', 'Benguluru', 'Pune', 'Mumbai']"
      ]
     },
     "execution_count": 7,
     "metadata": {},
     "output_type": "execute_result"
    }
   ],
   "source": [
    "output=[i.capitalize() for i in input]\n",
    "output"
   ]
  },
  {
   "cell_type": "code",
   "execution_count": 8,
   "id": "33de9f41-636f-42e5-8214-e70c15b01268",
   "metadata": {},
   "outputs": [
    {
     "data": {
      "text/plain": [
       "['HYD', 'BENGULURU', 'PUNE', 'MUMBAI']"
      ]
     },
     "execution_count": 8,
     "metadata": {},
     "output_type": "execute_result"
    }
   ],
   "source": [
    "input=['hyd','benguluru','pune','mumbai']\n",
    "output=[]\n",
    "for i in input:\n",
    "    output.append(i.upper())\n",
    "output"
   ]
  },
  {
   "cell_type": "code",
   "execution_count": 10,
   "id": "d565a54b-528d-4237-a7dd-3f01953e9679",
   "metadata": {},
   "outputs": [
    {
     "data": {
      "text/plain": [
       "['HYD', 'BENGULURU', 'PUNE', 'MUMBAI']"
      ]
     },
     "execution_count": 10,
     "metadata": {},
     "output_type": "execute_result"
    }
   ],
   "source": [
    "output=[i.upper() for i in input]\n",
    "output"
   ]
  },
  {
   "cell_type": "code",
   "execution_count": 12,
   "id": "39efeee7-60ac-4dcb-9296-ea8fe14ce102",
   "metadata": {},
   "outputs": [
    {
     "data": {
      "text/plain": [
       "[0, 10, 20, 30]"
      ]
     },
     "execution_count": 12,
     "metadata": {},
     "output_type": "execute_result"
    }
   ],
   "source": [
    "output=[input.index(i)*10 for i in input]\n",
    "output"
   ]
  },
  {
   "cell_type": "code",
   "execution_count": 13,
   "id": "e37b1f1c-e74f-4c76-a5d8-5fa33fae98f9",
   "metadata": {},
   "outputs": [
    {
     "data": {
      "text/plain": [
       "60"
      ]
     },
     "execution_count": 13,
     "metadata": {},
     "output_type": "execute_result"
    }
   ],
   "source": [
    "output=[input.index(i)*10 for i in input]\n",
    "sum(output)"
   ]
  },
  {
   "cell_type": "markdown",
   "id": "7ed53bfa-433f-454a-896b-e69c7f4492cd",
   "metadata": {},
   "source": [
    "**for loop codition**"
   ]
  },
  {
   "cell_type": "code",
   "execution_count": null,
   "id": "aa82853c-edab-4495-ac64-d438460f01f4",
   "metadata": {},
   "outputs": [],
   "source": [
    "list1=[<output var> <forloop> <if cond>]"
   ]
  },
  {
   "cell_type": "code",
   "execution_count": 14,
   "id": "e9d1bfcc-d208-427f-8c79-3f2c4cf059dc",
   "metadata": {},
   "outputs": [
    {
     "data": {
      "text/plain": [
       "[2, 4, 6, 8]"
      ]
     },
     "execution_count": 14,
     "metadata": {},
     "output_type": "execute_result"
    }
   ],
   "source": [
    "even_list=[]\n",
    "for i in range(1,10):\n",
    "    if i%2==0:\n",
    "        even_list.append(i)\n",
    "even_list"
   ]
  },
  {
   "cell_type": "code",
   "execution_count": 16,
   "id": "f3e2d5a1-611d-4fa9-8ab4-bc54c26aff95",
   "metadata": {},
   "outputs": [
    {
     "data": {
      "text/plain": [
       "[2, 4, 6, 8]"
      ]
     },
     "execution_count": 16,
     "metadata": {},
     "output_type": "execute_result"
    }
   ],
   "source": [
    "even_list=[i for i in range(1,10) if i%2==0]\n",
    "even_list"
   ]
  },
  {
   "cell_type": "code",
   "execution_count": 17,
   "id": "dfb582bf-1617-4bdc-a7a9-d081a3ac493b",
   "metadata": {},
   "outputs": [
    {
     "data": {
      "text/plain": [
       "['beng#luru', 'pu#ne']"
      ]
     },
     "execution_count": 17,
     "metadata": {},
     "output_type": "execute_result"
    }
   ],
   "source": [
    "input=['hyd','beng#luru','mumbai','pu#ne']\n",
    "output=[]\n",
    "for i in input:\n",
    "    if '#' in i:\n",
    "        output.append(i)\n",
    "output"
   ]
  },
  {
   "cell_type": "code",
   "execution_count": 18,
   "id": "49de08d8-0f3c-4f5e-b051-7a1dc66c8bf8",
   "metadata": {},
   "outputs": [
    {
     "data": {
      "text/plain": [
       "['beng#luru', 'pu#ne']"
      ]
     },
     "execution_count": 18,
     "metadata": {},
     "output_type": "execute_result"
    }
   ],
   "source": [
    "output=[i for i in input if '#' in i]\n",
    "output"
   ]
  },
  {
   "cell_type": "code",
   "execution_count": 19,
   "id": "fd054f0c-95e6-4565-900c-c82d744851ce",
   "metadata": {},
   "outputs": [
    {
     "data": {
      "text/plain": [
       "['hyd', 'mumbai']"
      ]
     },
     "execution_count": 19,
     "metadata": {},
     "output_type": "execute_result"
    }
   ],
   "source": [
    "input=['hyd','beng#luru','mumbai','pu#ne']\n",
    "output=[]\n",
    "for i in input:\n",
    "    if '#' not in i:\n",
    "        output.append(i)\n",
    "output"
   ]
  },
  {
   "cell_type": "code",
   "execution_count": 20,
   "id": "695a5ac2-4fa5-4385-ab98-42a88dde034c",
   "metadata": {},
   "outputs": [
    {
     "data": {
      "text/plain": [
       "['hyd', 'mumbai']"
      ]
     },
     "execution_count": 20,
     "metadata": {},
     "output_type": "execute_result"
    }
   ],
   "source": [
    "output=[i for i in input if '#' not in i]\n",
    "output"
   ]
  },
  {
   "cell_type": "markdown",
   "id": "b6c9e694-0bdf-4436-b367-6282b682c7fb",
   "metadata": {},
   "source": [
    "**for-if-else**"
   ]
  },
  {
   "cell_type": "code",
   "execution_count": null,
   "id": "0c80547d-937a-4ddf-9536-34b89ba7c055",
   "metadata": {},
   "outputs": [],
   "source": [
    "list=[<output var> <if cond>else <else out> <for loop>]\n"
   ]
  },
  {
   "cell_type": "code",
   "execution_count": 25,
   "id": "e8ad8d17-5b83-446b-9e7d-94fda6c459e5",
   "metadata": {},
   "outputs": [
    {
     "data": {
      "text/plain": [
       "['odd:1',\n",
       " 'even:2',\n",
       " 'odd:3',\n",
       " 'even:4',\n",
       " 'odd:5',\n",
       " 'even:6',\n",
       " 'odd:7',\n",
       " 'even:8',\n",
       " 'odd:9']"
      ]
     },
     "execution_count": 25,
     "metadata": {},
     "output_type": "execute_result"
    }
   ],
   "source": [
    "#even number\n",
    "list1=[]\n",
    "for i in range(1,10):\n",
    "    if i%2==0:\n",
    "        list1.append(f'even:{i}')\n",
    "    else:\n",
    "        list1.append(f'odd:{i}')\n",
    "list1"
   ]
  },
  {
   "cell_type": "code",
   "execution_count": 27,
   "id": "1974314d-252d-44aa-baed-cb4f81cb94d3",
   "metadata": {},
   "outputs": [
    {
     "data": {
      "text/plain": [
       "['odd:1',\n",
       " 'even:2',\n",
       " 'odd:3',\n",
       " 'even:4',\n",
       " 'odd:5',\n",
       " 'even:6',\n",
       " 'odd:7',\n",
       " 'even:8',\n",
       " 'odd:9']"
      ]
     },
     "execution_count": 27,
     "metadata": {},
     "output_type": "execute_result"
    }
   ],
   "source": [
    "list1=[f'even:{i}' if i%2==0 else f'odd:{i}' for i in range(1,10)]\n",
    "list1"
   ]
  },
  {
   "cell_type": "markdown",
   "id": "edfafe7d-cf11-441e-86de-a41fd5ae1f6c",
   "metadata": {},
   "source": [
    "**for-if-elif-else**"
   ]
  },
  {
   "cell_type": "code",
   "execution_count": null,
   "id": "8199d82b-306c-4e66-9356-9c11fc53fc5e",
   "metadata": {},
   "outputs": [],
   "source": [
    "[<if out> <ifcond> else <elifout> <elifcond> else <elseout> <forcond>]"
   ]
  },
  {
   "cell_type": "code",
   "execution_count": 30,
   "id": "2e8e0b0a-83f1-48e1-81fe-7d7a4cd59ea4",
   "metadata": {},
   "outputs": [
    {
     "name": "stdout",
     "output_type": "stream",
     "text": [
      "45:C grade\n",
      "55:C grade\n",
      "65:C grade\n",
      "75:B grade\n",
      "85:B grade\n",
      "95:A grade\n"
     ]
    }
   ],
   "source": [
    "l=[45,55,65,75,85,95]\n",
    "for i in l:\n",
    "    if i>85:\n",
    "        print(f'{i}:A grade')\n",
    "    elif i>65:\n",
    "        print(f'{i}:B grade')\n",
    "    else:\n",
    "        print(f'{i}:C grade')\n",
    "    "
   ]
  },
  {
   "cell_type": "code",
   "execution_count": 34,
   "id": "d5b13671-18af-48e1-8a6f-04ee8bcae722",
   "metadata": {},
   "outputs": [
    {
     "data": {
      "text/plain": [
       "['45:C grade',\n",
       " '55:C grade',\n",
       " '65:C grade',\n",
       " '75:B grade',\n",
       " '85:B grade',\n",
       " '95:A grade']"
      ]
     },
     "execution_count": 34,
     "metadata": {},
     "output_type": "execute_result"
    }
   ],
   "source": [
    "grades=[f'{i}:A grade' if i>85 else f'{i}:B grade' if i>65 else f'{i}:C grade' for i in l]\n",
    "grades"
   ]
  },
  {
   "cell_type": "code",
   "execution_count": null,
   "id": "1f9e2add-d266-4937-9084-660f12e188fe",
   "metadata": {},
   "outputs": [],
   "source": []
  }
 ],
 "metadata": {
  "kernelspec": {
   "display_name": "Python 3 (ipykernel)",
   "language": "python",
   "name": "python3"
  },
  "language_info": {
   "codemirror_mode": {
    "name": "ipython",
    "version": 3
   },
   "file_extension": ".py",
   "mimetype": "text/x-python",
   "name": "python",
   "nbconvert_exporter": "python",
   "pygments_lexer": "ipython3",
   "version": "3.12.7"
  }
 },
 "nbformat": 4,
 "nbformat_minor": 5
}
