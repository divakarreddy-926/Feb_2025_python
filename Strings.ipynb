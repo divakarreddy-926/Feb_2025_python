{
 "cells": [
  {
   "cell_type": "markdown",
   "id": "394f3ee3-6420-4164-a74f-84b6c33eb963",
   "metadata": {},
   "source": [
    "- Basic representations\n",
    "- inbuilt functions\n",
    "   - print\n",
    "   - type\n",
    "   - len\n",
    "   - maxi\n",
    "   - min\n",
    "   - sum`\n",
    "   - sorted\n",
    "   - revesed\n",
    "- concatentation\n",
    "- indexing\n",
    "- mutable and imuateble conept\n",
    "- slice\n",
    "- methods"
   ]
  },
  {
   "cell_type": "markdown",
   "id": "c5b4bcd7-a4d4-479d-bbb6-93af68c0273e",
   "metadata": {},
   "source": [
    "**Basic representations**"
   ]
  },
  {
   "cell_type": "code",
   "execution_count": 1,
   "id": "8de37167-c782-4059-b384-774aef573a6a",
   "metadata": {},
   "outputs": [
    {
     "data": {
      "text/plain": [
       "'python'"
      ]
     },
     "execution_count": 1,
     "metadata": {},
     "output_type": "execute_result"
    }
   ],
   "source": [
    "name='python'\n",
    "name"
   ]
  },
  {
   "cell_type": "code",
   "execution_count": 3,
   "id": "19f5dd16-d025-4f9e-a77f-dae8b5f83930",
   "metadata": {},
   "outputs": [
    {
     "name": "stdout",
     "output_type": "stream",
     "text": [
      "python\n"
     ]
    }
   ],
   "source": [
    "name='python'\n",
    "print(name)"
   ]
  },
  {
   "cell_type": "code",
   "execution_count": 5,
   "id": "28117531-243c-43df-9502-21d027441697",
   "metadata": {},
   "outputs": [
    {
     "data": {
      "text/plain": [
       "'python'"
      ]
     },
     "execution_count": 5,
     "metadata": {},
     "output_type": "execute_result"
    }
   ],
   "source": [
    "name=\"python\"\n",
    "(name) "
   ]
  },
  {
   "cell_type": "code",
   "execution_count": null,
   "id": "90497b6a-9bf4-49e9-982d-91a885881c4f",
   "metadata": {},
   "outputs": [],
   "source": [
    "- python by default gives output in single quotes\n",
    "- when we print the string "
   ]
  },
  {
   "cell_type": "code",
   "execution_count": 6,
   "id": "8c2b4ab8-4568-4036-94b2-0e529920e477",
   "metadata": {},
   "outputs": [
    {
     "name": "stdout",
     "output_type": "stream",
     "text": [
      "I love 'python'\n"
     ]
    }
   ],
   "source": [
    "str1=\"I love 'python'\"\n",
    "print(str1)"
   ]
  },
  {
   "cell_type": "code",
   "execution_count": 7,
   "id": "8f7970d8-0445-4b7c-ba42-6946529e5b19",
   "metadata": {},
   "outputs": [
    {
     "name": "stdout",
     "output_type": "stream",
     "text": [
      "I love \"python\"\n"
     ]
    }
   ],
   "source": [
    "str1='I love \"python\"'\n",
    "print(str1)"
   ]
  },
  {
   "cell_type": "markdown",
   "id": "42d9a16c-2f29-4478-b15f-2f85469bc303",
   "metadata": {},
   "source": [
    "**Doc string**"
   ]
  },
  {
   "cell_type": "code",
   "execution_count": null,
   "id": "e200b01e-f392-4cd9-abd7-e054c6070a39",
   "metadata": {},
   "outputs": [],
   "source": [
    "- triple quotes also known as doc string\n",
    "- triple quotes"
   ]
  },
  {
   "cell_type": "markdown",
   "id": "be6aad3b-7924-4a1b-8a96-7826e1f58bd2",
   "metadata": {},
   "source": [
    "**len**"
   ]
  },
  {
   "cell_type": "code",
   "execution_count": 13,
   "id": "12572b1a-c7b2-44a1-b1e6-29ecda214985",
   "metadata": {},
   "outputs": [
    {
     "data": {
      "text/plain": [
       "6"
      ]
     },
     "execution_count": 13,
     "metadata": {},
     "output_type": "execute_result"
    }
   ],
   "source": [
    "name='python'\n",
    "len(name)"
   ]
  },
  {
   "cell_type": "code",
   "execution_count": 17,
   "id": "f640df5d-cdff-41d9-8a39-1ff245bfbdd6",
   "metadata": {},
   "outputs": [
    {
     "data": {
      "text/plain": [
       "15"
      ]
     },
     "execution_count": 17,
     "metadata": {},
     "output_type": "execute_result"
    }
   ],
   "source": [
    "len('hai how are yoy')"
   ]
  },
  {
   "cell_type": "code",
   "execution_count": 12,
   "id": "7442fec5-51c3-4cec-a40e-a706f746c695",
   "metadata": {},
   "outputs": [
    {
     "data": {
      "text/plain": [
       "<reversed at 0x1ec58b43880>"
      ]
     },
     "execution_count": 12,
     "metadata": {},
     "output_type": "execute_result"
    }
   ],
   "source": [
    "name='python'\n",
    "reversed(name)"
   ]
  },
  {
   "cell_type": "code",
   "execution_count": 14,
   "id": "80314774-b481-4e9d-9d43-1480f3f8b1c1",
   "metadata": {},
   "outputs": [
    {
     "data": {
      "text/plain": [
       "'y'"
      ]
     },
     "execution_count": 14,
     "metadata": {},
     "output_type": "execute_result"
    }
   ],
   "source": [
    "name='python'\n",
    "max(name)"
   ]
  },
  {
   "cell_type": "code",
   "execution_count": null,
   "id": "e50cb172-3fa6-4531-bf4d-5061cea0833e",
   "metadata": {},
   "outputs": [],
   "source": [
    "for i in "
   ]
  },
  {
   "cell_type": "code",
   "execution_count": 15,
   "id": "994134de-05ce-4628-a94c-7410c9884b7c",
   "metadata": {},
   "outputs": [
    {
     "data": {
      "text/plain": [
       "'h'"
      ]
     },
     "execution_count": 15,
     "metadata": {},
     "output_type": "execute_result"
    }
   ],
   "source": [
    "name='python'\n",
    "min(name)"
   ]
  },
  {
   "cell_type": "markdown",
   "id": "bffe7754-a146-4fe1-ad1f-36b11502672b",
   "metadata": {},
   "source": [
    "**sorted**\n",
    "- sorted means either ascending or decending order\n",
    "- ascending= small to big\n",
    "- decending order=big to small"
   ]
  },
  {
   "cell_type": "markdown",
   "id": "fa9d34f4-9f04-4eb3-8d0c-8362fad30273",
   "metadata": {},
   "source": [
    "**sorted**"
   ]
  },
  {
   "cell_type": "code",
   "execution_count": 16,
   "id": "4a0b27d4-0a78-40ae-ae76-0c960a1a2632",
   "metadata": {},
   "outputs": [
    {
     "data": {
      "text/plain": [
       "['h', 'n', 'o', 'p', 't', 'y']"
      ]
     },
     "execution_count": 16,
     "metadata": {},
     "output_type": "execute_result"
    }
   ],
   "source": [
    "name='python'\n",
    "sorted(name)"
   ]
  },
  {
   "cell_type": "code",
   "execution_count": 18,
   "id": "065c2355-019f-4473-8e5d-a5898fe77f54",
   "metadata": {},
   "outputs": [
    {
     "name": "stdout",
     "output_type": "stream",
     "text": [
      "30\n"
     ]
    }
   ],
   "source": [
    "def add(a,b):\n",
    "    print(a+b)\n",
    "add(10,20)"
   ]
  },
  {
   "cell_type": "code",
   "execution_count": 19,
   "id": "8ddf5352-a77f-4ca0-88d0-84602c811c61",
   "metadata": {},
   "outputs": [
    {
     "name": "stdout",
     "output_type": "stream",
     "text": [
      "30\n"
     ]
    }
   ],
   "source": [
    "def add(a,b):\n",
    "    print(a+b)\n",
    "add(a=10,b=20)"
   ]
  },
  {
   "cell_type": "code",
   "execution_count": 20,
   "id": "a6935eaf-4eec-40b1-b122-096d9075adcf",
   "metadata": {},
   "outputs": [
    {
     "name": "stdout",
     "output_type": "stream",
     "text": [
      "30\n"
     ]
    }
   ],
   "source": [
    "def add(a,/,b):\n",
    "    print(a+b)\n",
    "add(10,20)"
   ]
  },
  {
   "cell_type": "code",
   "execution_count": 21,
   "id": "12f3f4c6-536d-471c-8627-55d6e71fe8be",
   "metadata": {},
   "outputs": [
    {
     "ename": "TypeError",
     "evalue": "add() got some positional-only arguments passed as keyword arguments: 'a'",
     "output_type": "error",
     "traceback": [
      "\u001b[1;31m---------------------------------------------------------------------------\u001b[0m",
      "\u001b[1;31mTypeError\u001b[0m                                 Traceback (most recent call last)",
      "Cell \u001b[1;32mIn[21], line 3\u001b[0m\n\u001b[0;32m      1\u001b[0m \u001b[38;5;28;01mdef\u001b[39;00m \u001b[38;5;21madd\u001b[39m(a,\u001b[38;5;241m/\u001b[39m,b):\n\u001b[0;32m      2\u001b[0m     \u001b[38;5;28mprint\u001b[39m(a\u001b[38;5;241m+\u001b[39mb)\n\u001b[1;32m----> 3\u001b[0m add(a\u001b[38;5;241m=\u001b[39m\u001b[38;5;241m10\u001b[39m,b\u001b[38;5;241m=\u001b[39m\u001b[38;5;241m20\u001b[39m)\n",
      "\u001b[1;31mTypeError\u001b[0m: add() got some positional-only arguments passed as keyword arguments: 'a'"
     ]
    }
   ],
   "source": [
    "def add(a,/,b):\n",
    "    print(a+b)\n",
    "add(a=10,b=20)"
   ]
  },
  {
   "cell_type": "code",
   "execution_count": 22,
   "id": "022e8b1f-180e-43e7-bca7-e0d8292cad50",
   "metadata": {},
   "outputs": [
    {
     "name": "stdout",
     "output_type": "stream",
     "text": [
      "30\n"
     ]
    }
   ],
   "source": [
    "def add(a,/,b):\n",
    "    print(a+b)\n",
    "add(10,b=20)"
   ]
  },
  {
   "cell_type": "code",
   "execution_count": 23,
   "id": "fd1e6baa-8609-40d5-b5f1-44ddc5b70b73",
   "metadata": {},
   "outputs": [
    {
     "ename": "SyntaxError",
     "evalue": "positional argument follows keyword argument (3787002837.py, line 3)",
     "output_type": "error",
     "traceback": [
      "\u001b[1;36m  Cell \u001b[1;32mIn[23], line 3\u001b[1;36m\u001b[0m\n\u001b[1;33m    add(a=10,20)\u001b[0m\n\u001b[1;37m               ^\u001b[0m\n\u001b[1;31mSyntaxError\u001b[0m\u001b[1;31m:\u001b[0m positional argument follows keyword argument\n"
     ]
    }
   ],
   "source": [
    "def add(a,/,b):\n",
    "    print(a+b)\n",
    "add(a=10,20)"
   ]
  },
  {
   "cell_type": "code",
   "execution_count": 24,
   "id": "abd6321b-4055-4a2c-aa3a-7a7b19baf5d0",
   "metadata": {},
   "outputs": [
    {
     "ename": "TypeError",
     "evalue": "sorted expected 1 argument, got 0",
     "output_type": "error",
     "traceback": [
      "\u001b[1;31m---------------------------------------------------------------------------\u001b[0m",
      "\u001b[1;31mTypeError\u001b[0m                                 Traceback (most recent call last)",
      "Cell \u001b[1;32mIn[24], line 1\u001b[0m\n\u001b[1;32m----> 1\u001b[0m \u001b[38;5;28msorted\u001b[39m(iterable\u001b[38;5;241m=\u001b[39m\u001b[38;5;124m'\u001b[39m\u001b[38;5;124mpython\u001b[39m\u001b[38;5;124m'\u001b[39m)\n",
      "\u001b[1;31mTypeError\u001b[0m: sorted expected 1 argument, got 0"
     ]
    }
   ],
   "source": [
    "sorted(iterable='python')"
   ]
  },
  {
   "cell_type": "markdown",
   "id": "574243d2-f468-4b5b-a2c0-8c226453bee1",
   "metadata": {},
   "source": [
    "**note**\n",
    "- / before dont use arguments name\n",
    "- / after  use arguments name, that is our wish\n",
    "- (*) indicates no need maintain the order of the arguments"
   ]
  },
  {
   "cell_type": "code",
   "execution_count": 25,
   "id": "36c61acb-18ec-4465-9190-86d39521aab6",
   "metadata": {},
   "outputs": [
    {
     "name": "stdout",
     "output_type": "stream",
     "text": [
      "60\n"
     ]
    }
   ],
   "source": [
    "def add(a,/,*,b,c):\n",
    "    print(a+b+c)\n",
    "\n",
    "add(10,c=20,b=30)"
   ]
  },
  {
   "cell_type": "code",
   "execution_count": 26,
   "id": "1c1b6331-076f-4461-92f7-76418b8bcf4c",
   "metadata": {},
   "outputs": [
    {
     "ename": "TypeError",
     "evalue": "add() takes 1 positional argument but 3 were given",
     "output_type": "error",
     "traceback": [
      "\u001b[1;31m---------------------------------------------------------------------------\u001b[0m",
      "\u001b[1;31mTypeError\u001b[0m                                 Traceback (most recent call last)",
      "Cell \u001b[1;32mIn[26], line 4\u001b[0m\n\u001b[0;32m      1\u001b[0m \u001b[38;5;28;01mdef\u001b[39;00m \u001b[38;5;21madd\u001b[39m(a,\u001b[38;5;241m/\u001b[39m,\u001b[38;5;241m*\u001b[39m,b,c):\n\u001b[0;32m      2\u001b[0m     \u001b[38;5;28mprint\u001b[39m(a\u001b[38;5;241m+\u001b[39mb\u001b[38;5;241m+\u001b[39mc)\n\u001b[1;32m----> 4\u001b[0m add(\u001b[38;5;241m10\u001b[39m,\u001b[38;5;241m20\u001b[39m,\u001b[38;5;241m30\u001b[39m)\n",
      "\u001b[1;31mTypeError\u001b[0m: add() takes 1 positional argument but 3 were given"
     ]
    }
   ],
   "source": [
    "def add(a,/,*,b,c):\n",
    "    print(a+b+c)\n",
    "\n",
    "add(10,20,30)"
   ]
  },
  {
   "cell_type": "markdown",
   "id": "2db57305-7b6e-41b3-9456-87b13c29506e",
   "metadata": {},
   "source": [
    "**Note**\n",
    "- (*) indicates provide the argument name"
   ]
  },
  {
   "cell_type": "code",
   "execution_count": 28,
   "id": "3bdeba55-a464-4b01-8100-4a42c2e1dbec",
   "metadata": {},
   "outputs": [
    {
     "ename": "TypeError",
     "evalue": "sorted expected 1 argument, got 2",
     "output_type": "error",
     "traceback": [
      "\u001b[1;31m---------------------------------------------------------------------------\u001b[0m",
      "\u001b[1;31mTypeError\u001b[0m                                 Traceback (most recent call last)",
      "Cell \u001b[1;32mIn[28], line 1\u001b[0m\n\u001b[1;32m----> 1\u001b[0m \u001b[38;5;28msorted\u001b[39m(\u001b[38;5;124m'\u001b[39m\u001b[38;5;124mpython\u001b[39m\u001b[38;5;124m'\u001b[39m,\u001b[38;5;28;01mTrue\u001b[39;00m)\n",
      "\u001b[1;31mTypeError\u001b[0m: sorted expected 1 argument, got 2"
     ]
    }
   ],
   "source": [
    "sorted('python',True)"
   ]
  },
  {
   "cell_type": "code",
   "execution_count": 29,
   "id": "99208d39-c7ce-4795-b4c5-74cb2f09e893",
   "metadata": {},
   "outputs": [
    {
     "data": {
      "text/plain": [
       "['y', 't', 'p', 'o', 'n', 'h']"
      ]
     },
     "execution_count": 29,
     "metadata": {},
     "output_type": "execute_result"
    }
   ],
   "source": [
    "sorted('python',reverse=True)"
   ]
  },
  {
   "cell_type": "code",
   "execution_count": 30,
   "id": "6655b861-7eeb-4077-92e7-66af1a15d973",
   "metadata": {},
   "outputs": [
    {
     "data": {
      "text/plain": [
       "['h', 'n', 'o', 'p', 't', 'y']"
      ]
     },
     "execution_count": 30,
     "metadata": {},
     "output_type": "execute_result"
    }
   ],
   "source": [
    "sorted('python')"
   ]
  },
  {
   "cell_type": "code",
   "execution_count": 31,
   "id": "cbe740ad-04cf-4737-ab8c-bdc6317b2e09",
   "metadata": {},
   "outputs": [
    {
     "ename": "TypeError",
     "evalue": "sorted expected 1 argument, got 0",
     "output_type": "error",
     "traceback": [
      "\u001b[1;31m---------------------------------------------------------------------------\u001b[0m",
      "\u001b[1;31mTypeError\u001b[0m                                 Traceback (most recent call last)",
      "Cell \u001b[1;32mIn[31], line 1\u001b[0m\n\u001b[1;32m----> 1\u001b[0m \u001b[38;5;28msorted\u001b[39m(iterable\u001b[38;5;241m=\u001b[39m\u001b[38;5;124m'\u001b[39m\u001b[38;5;124mpython\u001b[39m\u001b[38;5;124m'\u001b[39m,reverse\u001b[38;5;241m=\u001b[39m\u001b[38;5;28;01mTrue\u001b[39;00m)\n",
      "\u001b[1;31mTypeError\u001b[0m: sorted expected 1 argument, got 0"
     ]
    }
   ],
   "source": [
    "sorted(iterable='python',reverse=True)"
   ]
  },
  {
   "cell_type": "code",
   "execution_count": 32,
   "id": "bf2e3cae-480e-49df-9232-97a301e0fa36",
   "metadata": {},
   "outputs": [
    {
     "ename": "TypeError",
     "evalue": "sorted expected 1 argument, got 0",
     "output_type": "error",
     "traceback": [
      "\u001b[1;31m---------------------------------------------------------------------------\u001b[0m",
      "\u001b[1;31mTypeError\u001b[0m                                 Traceback (most recent call last)",
      "Cell \u001b[1;32mIn[32], line 1\u001b[0m\n\u001b[1;32m----> 1\u001b[0m \u001b[38;5;28msorted\u001b[39m(iterable\u001b[38;5;241m=\u001b[39m\u001b[38;5;124m'\u001b[39m\u001b[38;5;124mpython\u001b[39m\u001b[38;5;124m'\u001b[39m)\n",
      "\u001b[1;31mTypeError\u001b[0m: sorted expected 1 argument, got 0"
     ]
    }
   ],
   "source": [
    "sorted(iterable='python')"
   ]
  },
  {
   "cell_type": "markdown",
   "id": "fa1765fa-2803-4fc5-ac5b-998e05b605d8",
   "metadata": {},
   "source": [
    "**revesed**"
   ]
  },
  {
   "cell_type": "code",
   "execution_count": 33,
   "id": "68157bd5-e070-44b9-985f-db2134375067",
   "metadata": {},
   "outputs": [
    {
     "data": {
      "text/plain": [
       "<reversed at 0x1ec59971360>"
      ]
     },
     "execution_count": 33,
     "metadata": {},
     "output_type": "execute_result"
    }
   ],
   "source": [
    "reversed('prashanth')"
   ]
  },
  {
   "cell_type": "code",
   "execution_count": 34,
   "id": "c44ed762-ff50-4a8b-98a8-a5ce5f414267",
   "metadata": {},
   "outputs": [
    {
     "data": {
      "text/plain": [
       "<reversed at 0x1ec58df7040>"
      ]
     },
     "execution_count": 34,
     "metadata": {},
     "output_type": "execute_result"
    }
   ],
   "source": [
    "ans=reversed('prashanth')\n",
    "ans"
   ]
  },
  {
   "cell_type": "markdown",
   "id": "44015fb6-d3f9-4a06-ad44-7d2e4a3e1a6e",
   "metadata": {},
   "source": [
    "- answer saved at address memory location\n",
    "- we can see the answer by using for loop or list\n",
    "- whenever we see less than greater than symbol answer\n",
    "- try to apply for loop or list"
   ]
  },
  {
   "cell_type": "code",
   "execution_count": 2,
   "id": "f05157d4-10c7-460c-b835-6d5c27562e62",
   "metadata": {},
   "outputs": [
    {
     "name": "stdout",
     "output_type": "stream",
     "text": [
      "h\n",
      "t\n",
      "n\n",
      "a\n",
      "h\n",
      "s\n",
      "a\n",
      "r\n",
      "p\n"
     ]
    }
   ],
   "source": [
    "ans=reversed('prashanth')\n",
    "ans\n",
    "for i in ans:\n",
    "    print(i)"
   ]
  },
  {
   "cell_type": "code",
   "execution_count": 3,
   "id": "d44e93b9-d66e-484a-9b46-840cd316eaae",
   "metadata": {},
   "outputs": [
    {
     "data": {
      "text/plain": [
       "['h', 't', 'n', 'a', 'h', 's', 'a', 'r', 'p']"
      ]
     },
     "execution_count": 3,
     "metadata": {},
     "output_type": "execute_result"
    }
   ],
   "source": [
    "ans=reversed('prashanth')\n",
    "list(ans)"
   ]
  },
  {
   "cell_type": "markdown",
   "id": "f6331688-7a10-41f6-aa0c-d2781377d5a7",
   "metadata": {},
   "source": [
    "**Concatenation**"
   ]
  },
  {
   "cell_type": "code",
   "execution_count": 5,
   "id": "dc8a80bc-b8bf-4659-a31f-280a4fb15d18",
   "metadata": {},
   "outputs": [
    {
     "data": {
      "text/plain": [
       "'hellopython'"
      ]
     },
     "execution_count": 5,
     "metadata": {},
     "output_type": "execute_result"
    }
   ],
   "source": [
    "str1='hello'\n",
    "str2='python'\n",
    "str1+str2"
   ]
  },
  {
   "cell_type": "code",
   "execution_count": 6,
   "id": "63218755-2ff3-4990-90ab-a135f50133d3",
   "metadata": {},
   "outputs": [
    {
     "ename": "TypeError",
     "evalue": "unsupported operand type(s) for -: 'str' and 'str'",
     "output_type": "error",
     "traceback": [
      "\u001b[1;31m---------------------------------------------------------------------------\u001b[0m",
      "\u001b[1;31mTypeError\u001b[0m                                 Traceback (most recent call last)",
      "Cell \u001b[1;32mIn[6], line 3\u001b[0m\n\u001b[0;32m      1\u001b[0m str1\u001b[38;5;241m=\u001b[39m\u001b[38;5;124m'\u001b[39m\u001b[38;5;124mhello\u001b[39m\u001b[38;5;124m'\u001b[39m\n\u001b[0;32m      2\u001b[0m str2\u001b[38;5;241m=\u001b[39m\u001b[38;5;124m'\u001b[39m\u001b[38;5;124mpython\u001b[39m\u001b[38;5;124m'\u001b[39m\n\u001b[1;32m----> 3\u001b[0m str1\u001b[38;5;241m-\u001b[39mstr2\n",
      "\u001b[1;31mTypeError\u001b[0m: unsupported operand type(s) for -: 'str' and 'str'"
     ]
    }
   ],
   "source": [
    "str1='hello'\n",
    "str2='python'\n",
    "str1-str2"
   ]
  },
  {
   "cell_type": "code",
   "execution_count": 8,
   "id": "b9ec2b83-e911-43c2-895c-be51a5be0685",
   "metadata": {},
   "outputs": [
    {
     "data": {
      "text/plain": [
       "'hello python'"
      ]
     },
     "execution_count": 8,
     "metadata": {},
     "output_type": "execute_result"
    }
   ],
   "source": [
    "str1='hello'\n",
    "str2=' python'\n",
    "str1+str2"
   ]
  },
  {
   "cell_type": "code",
   "execution_count": 9,
   "id": "bf790f92-68a4-4c6b-9b7d-ee3eb9739e4d",
   "metadata": {},
   "outputs": [
    {
     "data": {
      "text/plain": [
       "'hello  python'"
      ]
     },
     "execution_count": 9,
     "metadata": {},
     "output_type": "execute_result"
    }
   ],
   "source": [
    "str1='hello'\n",
    "str2='python'\n",
    "str1+'  '+str2"
   ]
  },
  {
   "cell_type": "code",
   "execution_count": 1,
   "id": "57b967f9-107e-4ce9-84db-7a91b68b8327",
   "metadata": {},
   "outputs": [
    {
     "data": {
      "text/plain": [
       "'python'"
      ]
     },
     "execution_count": 1,
     "metadata": {},
     "output_type": "execute_result"
    }
   ],
   "source": [
    " str1='python'\n",
    "str1"
   ]
  },
  {
   "cell_type": "code",
   "execution_count": 2,
   "id": "33154d6e-ed16-4b0e-b096-0654d859f814",
   "metadata": {},
   "outputs": [
    {
     "data": {
      "text/plain": [
       "'y'"
      ]
     },
     "execution_count": 2,
     "metadata": {},
     "output_type": "execute_result"
    }
   ],
   "source": [
    "str1[1]"
   ]
  },
  {
   "cell_type": "code",
   "execution_count": 4,
   "id": "86e4430d-5193-4157-afb7-5c10feb96c8a",
   "metadata": {},
   "outputs": [
    {
     "name": "stdout",
     "output_type": "stream",
     "text": [
      "p\n",
      "y\n",
      "t\n",
      "h\n",
      "o\n",
      "n\n"
     ]
    }
   ],
   "source": [
    "for i in range(0,6):\n",
    "    print(str1[i])"
   ]
  },
  {
   "cell_type": "code",
   "execution_count": 5,
   "id": "e85dba05-5ecb-4ab5-8fc9-dc644c880af8",
   "metadata": {},
   "outputs": [
    {
     "name": "stdout",
     "output_type": "stream",
     "text": [
      "h\n",
      "e\n",
      "l\n",
      "l\n",
      "o\n",
      " \n",
      "h\n",
      "o\n",
      "w\n",
      " \n",
      "a\n",
      "r\n",
      "e\n",
      " \n",
      "y\n",
      "o\n",
      "u\n"
     ]
    }
   ],
   "source": [
    "str1='hello how are you'\n",
    "n=len(str1)\n",
    "for i in range(0,n):\n",
    "    print(str1[i])"
   ]
  },
  {
   "cell_type": "code",
   "execution_count": 2,
   "id": "1ac423a6-9266-4d72-814a-685dc18d71f9",
   "metadata": {},
   "outputs": [],
   "source": [
    "#the positive index of p is 0\n",
    "str1='python'\n",
    "i=0\n",
    "while i<0:\n",
    "    print(f'the positive index of p is:{i}')\n",
    "    i=i+1\n",
    "    print(f'the positive index of y is:{i}')\n",
    "    print(f'the positive index of t is:{i}')\n",
    "    "
   ]
  },
  {
   "cell_type": "code",
   "execution_count": 20,
   "id": "ce4f45b8-73d8-4dd6-b047-9c779393a026",
   "metadata": {},
   "outputs": [
    {
     "name": "stdout",
     "output_type": "stream",
     "text": [
      " the negative index of p is -6\n",
      " the negative index of y is -5\n",
      " the negative index of t is -4\n",
      " the negative index of h is -3\n",
      " the negative index of o is -2\n",
      " the negative index of n is -1\n"
     ]
    }
   ],
   "source": [
    "str2='python'\n",
    "n=len(str2)\n",
    "for i in range(-6,0):\n",
    "    print(f' the negative index of {str2[i]} is {i}')"
   ]
  },
  {
   "cell_type": "code",
   "execution_count": 28,
   "id": "3234c7d8-8c0c-4400-99c6-aaf5b8c96225",
   "metadata": {},
   "outputs": [
    {
     "name": "stdout",
     "output_type": "stream",
     "text": [
      " the posive index of p is 0\n",
      " the posive index of y is 1\n",
      " the posive index of t is 2\n",
      " the posive index of h is 3\n",
      " the posive index of o is 4\n",
      " the posive index of n is 5\n"
     ]
    }
   ],
   "source": [
    "str1='python'\n",
    "n=len(str1)\n",
    "for i in range(0,6):\n",
    "    print(f' the posive index of {str1[i]} is {i}')"
   ]
  },
  {
   "cell_type": "code",
   "execution_count": 27,
   "id": "7f0f4904-2903-4c6c-adcf-52d85be229d0",
   "metadata": {},
   "outputs": [
    {
     "name": "stdout",
     "output_type": "stream",
     "text": [
      " the posive index of p is 0\n",
      " the negative index of p is -6\n",
      " the posive index of y is 1\n",
      " the negative index of y is -5\n",
      " the posive index of t is 2\n",
      " the negative index of t is -4\n",
      " the posive index of h is 3\n",
      " the negative index of h is -3\n",
      " the posive index of o is 4\n",
      " the negative index of o is -2\n",
      " the posive index of n is 5\n",
      " the negative index of n is -1\n"
     ]
    }
   ],
   "source": [
    "str1='python'\n",
    "n=len(str1)\n",
    "for i in range(0,6):\n",
    "    print(f' the posive index of {str2[i]} is {i}')\n",
    "    print(f' the negative index of {str2[i]} is {i-6}')"
   ]
  },
  {
   "cell_type": "markdown",
   "id": "07dcd45d-3e1d-4f34-b2c5-634bd1b32f11",
   "metadata": {},
   "source": [
    "**When to use in - When to use range operate**"
   ]
  },
  {
   "cell_type": "markdown",
   "id": "b143d397-4fe3-40bd-a43d-26beffbaed3c",
   "metadata": {},
   "source": [
    "- **i** operater directly access the elements\n",
    "- **range** operater access the elements using index or number\n",
    "- any problem statement if you need numbers then go for range\n",
    "- otherwise go for in operator directly"
   ]
  },
  {
   "cell_type": "code",
   "execution_count": 32,
   "id": "0909abe5-7cc9-435e-94a3-3ec29928200e",
   "metadata": {},
   "outputs": [
    {
     "name": "stdout",
     "output_type": "stream",
     "text": [
      "p\n",
      "y\n",
      "t\n",
      "h\n",
      "o\n",
      "n\n",
      "0 p\n",
      "1 y\n",
      "2 t\n",
      "3 h\n",
      "4 o\n",
      "5 n\n"
     ]
    }
   ],
   "source": [
    "str1='python'\n",
    "for i in str1:\n",
    "    print (i)\n",
    "\n",
    "for i in range(0,6):\n",
    "    print (i,str1[i])"
   ]
  },
  {
   "cell_type": "code",
   "execution_count": 34,
   "id": "1477d529-b021-498d-b50d-96958b221a3f",
   "metadata": {},
   "outputs": [
    {
     "name": "stdout",
     "output_type": "stream",
     "text": [
      "o l a   o l a   o l a "
     ]
    }
   ],
   "source": [
    "# wap to find the index of 'a' in a given string\n",
    "#str1='ola ola ola'\n",
    "\n",
    "str1='ola ola ola'\n",
    "for i in str1:\n",
    "    print(i,end=' ')\n"
   ]
  },
  {
   "cell_type": "code",
   "execution_count": 47,
   "id": "221c16e1-e8ea-4908-ae8d-b70bfd37c7ca",
   "metadata": {},
   "outputs": [
    {
     "name": "stdout",
     "output_type": "stream",
     "text": [
      "2\n",
      "6\n",
      "10\n"
     ]
    }
   ],
   "source": [
    "str1='ola ola ola'\n",
    "n=len(str1)\n",
    "for i in range(n):\n",
    "    if str1[i]=='a':\n",
    "        print(i)"
   ]
  },
  {
   "cell_type": "code",
   "execution_count": 50,
   "id": "2e476a28-7d48-4e0d-a168-4ef51290ddef",
   "metadata": {},
   "outputs": [
    {
     "name": "stdout",
     "output_type": "stream",
     "text": [
      "2\n",
      "6\n",
      "10\n",
      "the number of a are: 3\n",
      "the sum of indexs are: 18\n"
     ]
    }
   ],
   "source": [
    "str1='ola ola ola'\n",
    "n=len(str1)\n",
    "summ=0\n",
    "count=0\n",
    "for i in range(n):\n",
    "    if str1[i]=='a':\n",
    "        print(i)\n",
    "        summ=summ+i\n",
    "        count=count+1\n",
    "print('the number of a are:',count)\n",
    "print('the sum of indexs are:',summ)\n"
   ]
  },
  {
   "cell_type": "code",
   "execution_count": 54,
   "id": "3e7b04f7-a17e-4ba6-8ad9-b87ea1d3e653",
   "metadata": {},
   "outputs": [
    {
     "name": "stdout",
     "output_type": "stream",
     "text": [
      "2\n",
      "6\n",
      "10\n"
     ]
    }
   ],
   "source": [
    "str1='ola ola ola'\n",
    "n=len(str1)\n",
    "count=0\n",
    "for i in range(n):\n",
    "    if str1[i]=='a':\n",
    "        count=count+1\n",
    "        print(i)\n",
    "        "
   ]
  },
  {
   "cell_type": "code",
   "execution_count": 57,
   "id": "3827a80a-a0a8-4804-bb45-b5d0b4382ad7",
   "metadata": {},
   "outputs": [
    {
     "name": "stdout",
     "output_type": "stream",
     "text": [
      "a\n",
      "a\n",
      "a\n"
     ]
    }
   ],
   "source": [
    "count=0\n",
    "for i in str1:\n",
    "    if i=='a':\n",
    "        count=count+1\n",
    "        print(i)"
   ]
  },
  {
   "cell_type": "code",
   "execution_count": 60,
   "id": "fba88a78-59ec-4ee5-b6f1-0d876e870b2b",
   "metadata": {},
   "outputs": [
    {
     "name": "stdout",
     "output_type": "stream",
     "text": [
      "i\n",
      "o\n",
      "a\n",
      "e\n",
      "o\n",
      "u\n",
      "6\n"
     ]
    }
   ],
   "source": [
    "str1='hi how are you'  #find the vowels\n",
    "s1='aeiou'\n",
    "count=0\n",
    "for i in str1:\n",
    "    if i in s1:\n",
    "        print(i)\n",
    "        count=count+1\n",
    "print(count)"
   ]
  },
  {
   "cell_type": "code",
   "execution_count": 62,
   "id": "3d83596b-4142-4914-99d7-abeccb6c4118",
   "metadata": {},
   "outputs": [
    {
     "name": "stdout",
     "output_type": "stream",
     "text": [
      "a\n",
      "e\n"
     ]
    }
   ],
   "source": [
    "#\n",
    "str1='aaae' #we want only one 'ae'\n",
    "s1=''\n",
    "for i in str1:\n",
    "    if i in 'aeiou' and i not in s1:\n",
    "        print(i)\n",
    "        s1=s1+i\n",
    "        "
   ]
  },
  {
   "cell_type": "markdown",
   "id": "d2ecc534-0616-4e45-9cf3-e3bad5b57b9f",
   "metadata": {},
   "source": [
    "**mutable-immutable**"
   ]
  },
  {
   "cell_type": "markdown",
   "id": "a4b4e4e7-c5ca-4aad-af5c-c1ec751b99fc",
   "metadata": {},
   "source": [
    "- muatable means change\n",
    "- immutable cannot change\n",
    "- we cannot change the elements using index operations"
   ]
  },
  {
   "cell_type": "code",
   "execution_count": 63,
   "id": "d10f5355-6718-4f66-a20f-613ee886a424",
   "metadata": {},
   "outputs": [
    {
     "data": {
      "text/plain": [
       "'l'"
      ]
     },
     "execution_count": 63,
     "metadata": {},
     "output_type": "execute_result"
    }
   ],
   "source": [
    "str1='hello'\n",
    "str1[2]"
   ]
  },
  {
   "cell_type": "code",
   "execution_count": 64,
   "id": "ae918098-ef4a-445f-a9b3-9ba4a8cc0bb0",
   "metadata": {},
   "outputs": [
    {
     "ename": "TypeError",
     "evalue": "'str' object does not support item assignment",
     "output_type": "error",
     "traceback": [
      "\u001b[1;31m---------------------------------------------------------------------------\u001b[0m",
      "\u001b[1;31mTypeError\u001b[0m                                 Traceback (most recent call last)",
      "Cell \u001b[1;32mIn[64], line 2\u001b[0m\n\u001b[0;32m      1\u001b[0m str1\u001b[38;5;241m=\u001b[39m\u001b[38;5;124m'\u001b[39m\u001b[38;5;124mhello\u001b[39m\u001b[38;5;124m'\u001b[39m\n\u001b[1;32m----> 2\u001b[0m str1[\u001b[38;5;241m2\u001b[39m]\u001b[38;5;241m=\u001b[39m\u001b[38;5;124m'\u001b[39m\u001b[38;5;124mL\u001b[39m\u001b[38;5;124m'\u001b[39m\n",
      "\u001b[1;31mTypeError\u001b[0m: 'str' object does not support item assignment"
     ]
    }
   ],
   "source": [
    "str1='hello'\n",
    "str1[2]='L'"
   ]
  },
  {
   "cell_type": "code",
   "execution_count": 77,
   "id": "3f1ff7fa-de1e-4a85-830b-2ae8b91405ae",
   "metadata": {},
   "outputs": [
    {
     "data": {
      "text/plain": [
       "[200, 20, 30]"
      ]
     },
     "execution_count": 77,
     "metadata": {},
     "output_type": "execute_result"
    }
   ],
   "source": [
    "l=[10,20,30]\n",
    "l[0]=200\n",
    "l"
   ]
  },
  {
   "cell_type": "markdown",
   "id": "2380d9da-2092-4187-90e2-97e793741916",
   "metadata": {},
   "source": [
    "**slice**\n",
    "- slice means cut into pieces\n",
    "- it has similar analogy with for loop range\n",
    "- in the for loop range we have start,stop,step\n",
    "- range(start,stop,step) str[start,stop,step]"
   ]
  },
  {
   "cell_type": "code",
   "execution_count": null,
   "id": "414cbb25-d167-4979-8b3c-5ce8678ed606",
   "metadata": {},
   "outputs": [],
   "source": [
    "-17 -16 -15 -14 -13 -12 -11 -10 -9 -8 -7 -6 -5 -4 -3 -2 -1\n",
    " h   e   l   l   o         h   o  w     a  r  e     y  o  u\n",
    " 0   1   2   3   4    5   6   7  8  9  10 11 12 13 14 15 16"
   ]
  },
  {
   "cell_type": "markdown",
   "id": "64bcadad-1281-412b-8c30-d0a9f89b9747",
   "metadata": {},
   "source": [
    "$case-1$\n",
    "**str[:stop]**\n",
    "- by default start=0\n",
    "- by default step= positive direction 1\n",
    "- last=stop-1"
   ]
  },
  {
   "cell_type": "code",
   "execution_count": 2,
   "id": "073b370a-940d-4d60-b905-bed920a569e4",
   "metadata": {},
   "outputs": [
    {
     "data": {
      "text/plain": [
       "'hello'"
      ]
     },
     "execution_count": 2,
     "metadata": {},
     "output_type": "execute_result"
    }
   ],
   "source": [
    "str1='hello how are you'\n",
    "str1[:5]  #start=0  step=1   stop=5-1=4"
   ]
  },
  {
   "cell_type": "markdown",
   "id": "c2a06c7f-c392-4486-8d6f-30c0201d5a00",
   "metadata": {},
   "source": [
    "$case-2$\n",
    "**str[start:]**\n",
    "- by default start=start value\n",
    "- by default step= positive direction 1\n",
    "- last=stop-1"
   ]
  },
  {
   "cell_type": "code",
   "execution_count": 3,
   "id": "dfc8c959-e3b5-4c54-b237-e9a85da7f1f0",
   "metadata": {},
   "outputs": [
    {
     "data": {
      "text/plain": [
       "' how are you'"
      ]
     },
     "execution_count": 3,
     "metadata": {},
     "output_type": "execute_result"
    }
   ],
   "source": [
    "str1[5:]"
   ]
  },
  {
   "cell_type": "markdown",
   "id": "a2ba18e2-b212-408f-b173-d99740bb1c09",
   "metadata": {},
   "source": [
    "$case-3$\n",
    "**str[start:stop]**\n",
    "- by default start=start value\n",
    "- by default step= positive direction 1\n",
    "- last=stop-1"
   ]
  },
  {
   "cell_type": "code",
   "execution_count": 4,
   "id": "7390be48-3235-43c5-bdc6-0b3fff75a70a",
   "metadata": {},
   "outputs": [
    {
     "data": {
      "text/plain": [
       "'are y'"
      ]
     },
     "execution_count": 4,
     "metadata": {},
     "output_type": "execute_result"
    }
   ],
   "source": [
    "str1[10:15]"
   ]
  },
  {
   "cell_type": "code",
   "execution_count": 5,
   "id": "5923fa79-15de-491d-beb2-fa74c699a09e",
   "metadata": {},
   "outputs": [
    {
     "data": {
      "text/plain": [
       "'llo how '"
      ]
     },
     "execution_count": 5,
     "metadata": {},
     "output_type": "execute_result"
    }
   ],
   "source": [
    "str1[-15:10]"
   ]
  },
  {
   "cell_type": "code",
   "execution_count": 6,
   "id": "55a371ff-db4b-4eaa-b5cd-e2811f737e18",
   "metadata": {},
   "outputs": [
    {
     "data": {
      "text/plain": [
       "''"
      ]
     },
     "execution_count": 6,
     "metadata": {},
     "output_type": "execute_result"
    }
   ],
   "source": [
    "str1[-10:2]"
   ]
  },
  {
   "cell_type": "code",
   "execution_count": 7,
   "id": "c42c79c1-254f-4796-b077-0c57a9a204f2",
   "metadata": {},
   "outputs": [
    {
     "data": {
      "text/plain": [
       "'llo how are y'"
      ]
     },
     "execution_count": 7,
     "metadata": {},
     "output_type": "execute_result"
    }
   ],
   "source": [
    "#-17 -16 -15 -14 -13 -12 -11 -10 -9 -8 -7 -6 -5 -4 -3 -2 -1\n",
    "# h   e   l   l   o         h   o  w     a  r  e     y  o  u\n",
    "# 0   1   2   3   4    5   6   7  8  9  10 11 12 13 14 15 16\n",
    "\n",
    "str1[2:-2]    # strings woorking"
   ]
  },
  {
   "cell_type": "code",
   "execution_count": 8,
   "id": "5f628dad-919e-48f8-abd1-802ae63552f7",
   "metadata": {},
   "outputs": [],
   "source": [
    "for i in range(2,-2):\n",
    "    print(i)            #for loop not working"
   ]
  },
  {
   "cell_type": "code",
   "execution_count": 9,
   "id": "c785aa07-b3fe-4db3-b1a9-4dfc4ff1b71b",
   "metadata": {},
   "outputs": [
    {
     "data": {
      "text/plain": [
       "'how a'"
      ]
     },
     "execution_count": 9,
     "metadata": {},
     "output_type": "execute_result"
    }
   ],
   "source": [
    "str1[6:-6] "
   ]
  },
  {
   "cell_type": "code",
   "execution_count": 10,
   "id": "3011ae0c-6711-4db5-be90-dba73fa82620",
   "metadata": {},
   "outputs": [
    {
     "data": {
      "text/plain": [
       "''"
      ]
     },
     "execution_count": 10,
     "metadata": {},
     "output_type": "execute_result"
    }
   ],
   "source": [
    "str1[12:-12] "
   ]
  },
  {
   "cell_type": "code",
   "execution_count": null,
   "id": "2ae726d3-7327-4e37-9233-45287c59c073",
   "metadata": {},
   "outputs": [],
   "source": [
    "$case-4$\n",
    "**str[start:stop:step]**\n",
    "- by default start=start value\n",
    "- by default step= positive direction 1\n",
    "- if step is negative value\n",
    "     - last=stop+1"
   ]
  },
  {
   "cell_type": "code",
   "execution_count": 21,
   "id": "303be303-7387-4024-84a4-128f710e1aaa",
   "metadata": {},
   "outputs": [
    {
     "data": {
      "text/plain": [
       "' '"
      ]
     },
     "execution_count": 21,
     "metadata": {},
     "output_type": "execute_result"
    }
   ],
   "source": [
    "#-17 -16 -15 -14 -13 -12 -11 -10 -9 -8 -7 -6 -5 -4 -3 -2 -1\n",
    "# h   e   l   l   o         h   o  w     a  r  e     y  o  u\n",
    "# 0   1   2   3   4    5   6   7  8  9  10 11 12 13 14 15 16\n",
    "\n",
    "str1[5:-6:9]"
   ]
  },
  {
   "cell_type": "code",
   "execution_count": 17,
   "id": "c87ff37f-766f-4386-963b-e01b4a9db634",
   "metadata": {},
   "outputs": [
    {
     "data": {
      "text/plain": [
       "'lohwa'"
      ]
     },
     "execution_count": 17,
     "metadata": {},
     "output_type": "execute_result"
    }
   ],
   "source": [
    "str1[2:-6:2]"
   ]
  },
  {
   "cell_type": "code",
   "execution_count": 20,
   "id": "405cfaac-d3c4-42ee-9a11-796574f9fe1e",
   "metadata": {},
   "outputs": [
    {
     "data": {
      "text/plain": [
       "''"
      ]
     },
     "execution_count": 20,
     "metadata": {},
     "output_type": "execute_result"
    }
   ],
   "source": [
    "str1[16:-14:5]"
   ]
  },
  {
   "cell_type": "code",
   "execution_count": 23,
   "id": "e36b3787-2f66-4290-adf2-2a1a49032065",
   "metadata": {},
   "outputs": [
    {
     "data": {
      "text/plain": [
       "'llo how are you'"
      ]
     },
     "execution_count": 23,
     "metadata": {},
     "output_type": "execute_result"
    }
   ],
   "source": [
    "str1[2:150]"
   ]
  },
  {
   "cell_type": "code",
   "execution_count": 24,
   "id": "c789a24e-605d-4def-b999-6551f72ab549",
   "metadata": {},
   "outputs": [
    {
     "data": {
      "text/plain": [
       "'hello how are you'"
      ]
     },
     "execution_count": 24,
     "metadata": {},
     "output_type": "execute_result"
    }
   ],
   "source": [
    "str1[:]"
   ]
  },
  {
   "cell_type": "code",
   "execution_count": 25,
   "id": "364673fb-95db-4b3d-a2ac-ed57f47fde3e",
   "metadata": {},
   "outputs": [
    {
     "data": {
      "text/plain": [
       "'hello how are you'"
      ]
     },
     "execution_count": 25,
     "metadata": {},
     "output_type": "execute_result"
    }
   ],
   "source": [
    "str1[::]"
   ]
  },
  {
   "cell_type": "code",
   "execution_count": 26,
   "id": "f108d564-a212-47ec-ac99-74d82d2cefc6",
   "metadata": {},
   "outputs": [
    {
     "data": {
      "text/plain": [
       "'uoy era woh olleh'"
      ]
     },
     "execution_count": 26,
     "metadata": {},
     "output_type": "execute_result"
    }
   ],
   "source": [
    "str1[::-1]"
   ]
  },
  {
   "cell_type": "code",
   "execution_count": 27,
   "id": "ad01f2a9-e6d2-4bc4-9e14-077c27633559",
   "metadata": {},
   "outputs": [
    {
     "data": {
      "text/plain": [
       "'54321'"
      ]
     },
     "execution_count": 27,
     "metadata": {},
     "output_type": "execute_result"
    }
   ],
   "source": [
    "num=12345\n",
    "str(num)[::-1]"
   ]
  },
  {
   "cell_type": "markdown",
   "id": "1f8370ce-c1c8-46ca-bb90-c3fe3504d054",
   "metadata": {},
   "source": [
    "**Methods**"
   ]
  },
  {
   "cell_type": "code",
   "execution_count": 29,
   "id": "4a568d1a-2850-4531-b5c6-60a38755bdfa",
   "metadata": {},
   "outputs": [
    {
     "data": {
      "text/plain": [
       "['__add__',\n",
       " '__class__',\n",
       " '__contains__',\n",
       " '__delattr__',\n",
       " '__dir__',\n",
       " '__doc__',\n",
       " '__eq__',\n",
       " '__format__',\n",
       " '__ge__',\n",
       " '__getattribute__',\n",
       " '__getitem__',\n",
       " '__getnewargs__',\n",
       " '__getstate__',\n",
       " '__gt__',\n",
       " '__hash__',\n",
       " '__init__',\n",
       " '__init_subclass__',\n",
       " '__iter__',\n",
       " '__le__',\n",
       " '__len__',\n",
       " '__lt__',\n",
       " '__mod__',\n",
       " '__mul__',\n",
       " '__ne__',\n",
       " '__new__',\n",
       " '__reduce__',\n",
       " '__reduce_ex__',\n",
       " '__repr__',\n",
       " '__rmod__',\n",
       " '__rmul__',\n",
       " '__setattr__',\n",
       " '__sizeof__',\n",
       " '__str__',\n",
       " '__subclasshook__',\n",
       " 'capitalize',\n",
       " 'casefold',\n",
       " 'center',\n",
       " 'count',\n",
       " 'encode',\n",
       " 'endswith',\n",
       " 'expandtabs',\n",
       " 'find',\n",
       " 'format',\n",
       " 'format_map',\n",
       " 'index',\n",
       " 'isalnum',\n",
       " 'isalpha',\n",
       " 'isascii',\n",
       " 'isdecimal',\n",
       " 'isdigit',\n",
       " 'isidentifier',\n",
       " 'islower',\n",
       " 'isnumeric',\n",
       " 'isprintable',\n",
       " 'isspace',\n",
       " 'istitle',\n",
       " 'isupper',\n",
       " 'join',\n",
       " 'ljust',\n",
       " 'lower',\n",
       " 'lstrip',\n",
       " 'maketrans',\n",
       " 'partition',\n",
       " 'removeprefix',\n",
       " 'removesuffix',\n",
       " 'replace',\n",
       " 'rfind',\n",
       " 'rindex',\n",
       " 'rjust',\n",
       " 'rpartition',\n",
       " 'rsplit',\n",
       " 'rstrip',\n",
       " 'split',\n",
       " 'splitlines',\n",
       " 'startswith',\n",
       " 'strip',\n",
       " 'swapcase',\n",
       " 'title',\n",
       " 'translate',\n",
       " 'upper',\n",
       " 'zfill']"
      ]
     },
     "execution_count": 29,
     "metadata": {},
     "output_type": "execute_result"
    }
   ],
   "source": [
    "dir('')   ## strings method=we use quotes"
   ]
  },
  {
   "cell_type": "markdown",
   "id": "ee04a0e5-18a2-4d22-b6af-620689977bf1",
   "metadata": {},
   "source": [
    "**upper**"
   ]
  },
  {
   "cell_type": "code",
   "execution_count": 31,
   "id": "03276792-6a2c-4456-90ed-5609d512c3f9",
   "metadata": {},
   "outputs": [
    {
     "data": {
      "text/plain": [
       "<function str.upper()>"
      ]
     },
     "execution_count": 31,
     "metadata": {},
     "output_type": "execute_result"
    }
   ],
   "source": [
    "str1='welcome'\n",
    "str1.upper"
   ]
  },
  {
   "cell_type": "code",
   "execution_count": 32,
   "id": "56f17eab-43d5-4244-b941-26df664c5560",
   "metadata": {},
   "outputs": [
    {
     "data": {
      "text/plain": [
       "'WELCOME'"
      ]
     },
     "execution_count": 32,
     "metadata": {},
     "output_type": "execute_result"
    }
   ],
   "source": [
    "str1='welcome'\n",
    "str1.upper()"
   ]
  },
  {
   "cell_type": "code",
   "execution_count": 34,
   "id": "da3da783-fb80-4528-a79c-717b16537d4f",
   "metadata": {},
   "outputs": [
    {
     "data": {
      "text/plain": [
       "'welcome'"
      ]
     },
     "execution_count": 34,
     "metadata": {},
     "output_type": "execute_result"
    }
   ],
   "source": [
    "str1='welcome'\n",
    "str1.lower()"
   ]
  },
  {
   "cell_type": "code",
   "execution_count": 40,
   "id": "46b38b67-a7f9-464d-917c-3468db7d772c",
   "metadata": {},
   "outputs": [
    {
     "data": {
      "text/plain": [
       "'Welcome Hi How Are You'"
      ]
     },
     "execution_count": 40,
     "metadata": {},
     "output_type": "execute_result"
    }
   ],
   "source": [
    "str1='welcome hi how are you'\n",
    "str1.title()"
   ]
  },
  {
   "cell_type": "code",
   "execution_count": 38,
   "id": "f86ed392-58d5-4635-9c37-abdaf6863118",
   "metadata": {},
   "outputs": [
    {
     "data": {
      "text/plain": [
       "'Welcome to naresh it'"
      ]
     },
     "execution_count": 38,
     "metadata": {},
     "output_type": "execute_result"
    }
   ],
   "source": [
    "str1='welcome to naresh it'\n",
    "str1.capitalize()"
   ]
  },
  {
   "cell_type": "code",
   "execution_count": 41,
   "id": "fcc2f905-08be-4b72-8535-8c42a8e65869",
   "metadata": {},
   "outputs": [
    {
     "data": {
      "text/plain": [
       "'hi how are you'"
      ]
     },
     "execution_count": 41,
     "metadata": {},
     "output_type": "execute_result"
    }
   ],
   "source": [
    "str1='hi how are you'\n",
    "str1.casefold()"
   ]
  },
  {
   "cell_type": "code",
   "execution_count": null,
   "id": "8fe2b8ce-087d-43a7-ac5b-cbf7752371c4",
   "metadata": {},
   "outputs": [],
   "source": [
    "str1.upper()\n",
    "str1.lower()\n",
    "str1.title()\n",
    "str1.capitalize()\n",
    "str1.casefold()"
   ]
  },
  {
   "cell_type": "markdown",
   "id": "9e729dde-4c93-4033-befa-a76e248ad167",
   "metadata": {},
   "source": [
    "**difference between methods and inbuilt fuctions**"
   ]
  },
  {
   "cell_type": "code",
   "execution_count": null,
   "id": "d26be265-fd21-4823-872c-82a4a9a86d5d",
   "metadata": {},
   "outputs": [],
   "source": [
    "######### inbuilt  #######################\n",
    "len('python')\n",
    "max()\n",
    "min()\n",
    "type()\n",
    "sum()\n",
    "print()\n",
    "#################################\n",
    "str1.upper()\n",
    "str1.lower()\n",
    "str1.title()\n",
    "str1.capitalize()\n",
    "str1.casefold()"
   ]
  },
  {
   "cell_type": "markdown",
   "id": "1dcd28f6-2724-42d8-83da-d908b0ece4ac",
   "metadata": {},
   "source": [
    "**center**"
   ]
  },
  {
   "cell_type": "code",
   "execution_count": 45,
   "id": "c9ba786f-078d-4784-a6d2-ee26d4709682",
   "metadata": {},
   "outputs": [
    {
     "data": {
      "text/plain": [
       "'    python   '"
      ]
     },
     "execution_count": 45,
     "metadata": {},
     "output_type": "execute_result"
    }
   ],
   "source": [
    "str1='python'\n",
    "str1.center(13)"
   ]
  },
  {
   "cell_type": "code",
   "execution_count": 47,
   "id": "83acd74a-3825-4c26-b0f5-83b92915f13a",
   "metadata": {},
   "outputs": [
    {
     "data": {
      "text/plain": [
       "'****python***'"
      ]
     },
     "execution_count": 47,
     "metadata": {},
     "output_type": "execute_result"
    }
   ],
   "source": [
    "str1='python'\n",
    "str1.center(13,'*')\n",
    "#3stars+python(6)+4*"
   ]
  },
  {
   "cell_type": "code",
   "execution_count": null,
   "id": "9697793a-0675-4ab4-8a53-43e1f68d190e",
   "metadata": {},
   "outputs": [],
   "source": [
    "#assume that i already have string = '****python*****'"
   ]
  },
  {
   "cell_type": "markdown",
   "id": "0d8a8147-2d96-4dd7-8d75-50ba973e29ac",
   "metadata": {},
   "source": [
    "**strip-lstrip-rstrip**\n",
    "- strip will remove the characters both left and right side\n",
    "- lstrip will remove the chracters on left side\n",
    "- rstrip will remove the chracters on right side"
   ]
  },
  {
   "cell_type": "code",
   "execution_count": 48,
   "id": "7ad82846-41bc-4e63-8e7c-d8b5f0785f5f",
   "metadata": {},
   "outputs": [
    {
     "data": {
      "text/plain": [
       "'python'"
      ]
     },
     "execution_count": 48,
     "metadata": {},
     "output_type": "execute_result"
    }
   ],
   "source": [
    "str1='   python  '\n",
    "str1.strip()"
   ]
  },
  {
   "cell_type": "code",
   "execution_count": 49,
   "id": "da4cbd17-cda8-452a-a9f9-7d4c38e69622",
   "metadata": {},
   "outputs": [
    {
     "data": {
      "text/plain": [
       "'python  '"
      ]
     },
     "execution_count": 49,
     "metadata": {},
     "output_type": "execute_result"
    }
   ],
   "source": [
    "str1='   python  '\n",
    "str1.lstrip()"
   ]
  },
  {
   "cell_type": "code",
   "execution_count": 50,
   "id": "6d3833c0-80ab-4c7d-a2b4-7c3883263eb5",
   "metadata": {},
   "outputs": [
    {
     "data": {
      "text/plain": [
       "'   python'"
      ]
     },
     "execution_count": 50,
     "metadata": {},
     "output_type": "execute_result"
    }
   ],
   "source": [
    "str1='   python  '\n",
    "str1.rstrip()"
   ]
  },
  {
   "cell_type": "code",
   "execution_count": 59,
   "id": "39598ae2-412f-4e1b-9544-471004f5fbad",
   "metadata": {},
   "outputs": [
    {
     "data": {
      "text/plain": [
       "'python'"
      ]
     },
     "execution_count": 59,
     "metadata": {},
     "output_type": "execute_result"
    }
   ],
   "source": [
    "str2='****python****'\n",
    "str2.strip('*')"
   ]
  },
  {
   "cell_type": "code",
   "execution_count": 60,
   "id": "56730be4-5e3c-4d75-8ab4-9076f8dfe4b2",
   "metadata": {},
   "outputs": [
    {
     "data": {
      "text/plain": [
       "'python****'"
      ]
     },
     "execution_count": 60,
     "metadata": {},
     "output_type": "execute_result"
    }
   ],
   "source": [
    "str2='****python****'\n",
    "str2.lstrip('*')"
   ]
  },
  {
   "cell_type": "code",
   "execution_count": 61,
   "id": "e7ea1cde-d069-4fd9-8bdf-02858a9b22a8",
   "metadata": {},
   "outputs": [
    {
     "data": {
      "text/plain": [
       "'****python'"
      ]
     },
     "execution_count": 61,
     "metadata": {},
     "output_type": "execute_result"
    }
   ],
   "source": [
    "str2='****python****'\n",
    "str2.rstrip('*')"
   ]
  },
  {
   "cell_type": "code",
   "execution_count": 62,
   "id": "39cd3826-939c-47c1-a013-3c85fd81e089",
   "metadata": {},
   "outputs": [
    {
     "data": {
      "text/plain": [
       "'   python'"
      ]
     },
     "execution_count": 62,
     "metadata": {},
     "output_type": "execute_result"
    }
   ],
   "source": [
    "str3='   python****'\n",
    "str3.strip('*')"
   ]
  },
  {
   "cell_type": "code",
   "execution_count": 57,
   "id": "9c8093da-fd3c-4209-9ec9-540ea108902b",
   "metadata": {},
   "outputs": [
    {
     "data": {
      "text/plain": [
       "'python****'"
      ]
     },
     "execution_count": 57,
     "metadata": {},
     "output_type": "execute_result"
    }
   ],
   "source": [
    "str3='   python****'\n",
    "str3.lstrip()"
   ]
  },
  {
   "cell_type": "code",
   "execution_count": 63,
   "id": "bbc0c9c9-2169-4d54-982e-72b363ab3548",
   "metadata": {},
   "outputs": [
    {
     "data": {
      "text/plain": [
       "'   python'"
      ]
     },
     "execution_count": 63,
     "metadata": {},
     "output_type": "execute_result"
    }
   ],
   "source": [
    "str3='   python****'\n",
    "str3.rstrip('*')"
   ]
  },
  {
   "cell_type": "markdown",
   "id": "79f72e7b-971e-41f8-8620-cfe62b1f6fea",
   "metadata": {},
   "source": [
    "**startswith**"
   ]
  },
  {
   "cell_type": "code",
   "execution_count": 1,
   "id": "6ebba234-4c83-47d4-94da-e12dc32d2f87",
   "metadata": {},
   "outputs": [
    {
     "data": {
      "text/plain": [
       "True"
      ]
     },
     "execution_count": 1,
     "metadata": {},
     "output_type": "execute_result"
    }
   ],
   "source": [
    "str1='hello how are you'\n",
    "str1.startswith('hello')"
   ]
  },
  {
   "cell_type": "markdown",
   "id": "0ca68d05-4f0b-4eb6-babf-8835ea595830",
   "metadata": {},
   "source": [
    "**count**"
   ]
  },
  {
   "cell_type": "code",
   "execution_count": 2,
   "id": "f3bfc3dd-a41d-4acb-b109-fbff549ba345",
   "metadata": {},
   "outputs": [
    {
     "name": "stdout",
     "output_type": "stream",
     "text": [
      "3\n"
     ]
    }
   ],
   "source": [
    "str1='ola ola ola'\n",
    "# in the above sting how many 'a' are there\n",
    "count=0\n",
    "str1='ola ola ola'\n",
    "for i in str1:\n",
    "    if i=='a':\n",
    "        count=count+1\n",
    "print(count)"
   ]
  },
  {
   "cell_type": "code",
   "execution_count": 3,
   "id": "a38312e0-9471-4f58-b5c6-4217d6be6c09",
   "metadata": {},
   "outputs": [
    {
     "name": "stdout",
     "output_type": "stream",
     "text": [
      "3\n"
     ]
    }
   ],
   "source": [
    "# in the above sting how many 'a' are there\n",
    "count=0\n",
    "str1='ola ola ola'\n",
    "for i in range(len(str1)):\n",
    "    if str1[i]=='a':\n",
    "        count=count+1\n",
    "print(count)"
   ]
  },
  {
   "cell_type": "markdown",
   "id": "f89178da-a3ac-4a16-b49a-b02218442ed3",
   "metadata": {},
   "source": [
    "$case-1$"
   ]
  },
  {
   "cell_type": "code",
   "execution_count": 4,
   "id": "3d2ee7d2-7322-4ab9-858f-3f6d1693c05f",
   "metadata": {},
   "outputs": [
    {
     "data": {
      "text/plain": [
       "3"
      ]
     },
     "execution_count": 4,
     "metadata": {},
     "output_type": "execute_result"
    }
   ],
   "source": [
    "str1='ola ola ola'\n",
    "str1.count('a')"
   ]
  },
  {
   "cell_type": "code",
   "execution_count": 6,
   "id": "aeaf39dc-d571-4a74-bf6c-fcf7578cd1a0",
   "metadata": {},
   "outputs": [
    {
     "data": {
      "text/plain": [
       "3"
      ]
     },
     "execution_count": 6,
     "metadata": {},
     "output_type": "execute_result"
    }
   ],
   "source": [
    "str1='ola ola ola'\n",
    "str1.count('la')"
   ]
  },
  {
   "cell_type": "code",
   "execution_count": 7,
   "id": "b63d35ad-3e4a-4a87-982e-63f2650920cf",
   "metadata": {},
   "outputs": [
    {
     "data": {
      "text/plain": [
       "3"
      ]
     },
     "execution_count": 7,
     "metadata": {},
     "output_type": "execute_result"
    }
   ],
   "source": [
    "str1='ola ola ola'\n",
    "str1.count('ola')"
   ]
  },
  {
   "cell_type": "code",
   "execution_count": 8,
   "id": "b545b00d-f7c0-4930-9251-04c20e3bffbd",
   "metadata": {},
   "outputs": [
    {
     "data": {
      "text/plain": [
       "2"
      ]
     },
     "execution_count": 8,
     "metadata": {},
     "output_type": "execute_result"
    }
   ],
   "source": [
    "str1='ola ola ola'\n",
    "str1.count('ola ')"
   ]
  },
  {
   "cell_type": "markdown",
   "id": "a40da32e-e8a4-471b-ae88-cead0699df91",
   "metadata": {},
   "source": [
    "$case-2$"
   ]
  },
  {
   "cell_type": "code",
   "execution_count": 9,
   "id": "f4505a5c-88bf-4df4-b7bd-c732766f6e71",
   "metadata": {},
   "outputs": [
    {
     "data": {
      "text/plain": [
       "2"
      ]
     },
     "execution_count": 9,
     "metadata": {},
     "output_type": "execute_result"
    }
   ],
   "source": [
    "#-11-10-9-8-7-6-5-4-3-2-1 \n",
    "# o l a   o l a   o l a\n",
    "# 0 1 2 3 4 5 6 7 8 9 10\n",
    "str1.count('a',6)  "
   ]
  },
  {
   "cell_type": "code",
   "execution_count": 10,
   "id": "1c12a899-a147-401c-81ab-a3bada149eee",
   "metadata": {},
   "outputs": [
    {
     "data": {
      "text/plain": [
       "0"
      ]
     },
     "execution_count": 10,
     "metadata": {},
     "output_type": "execute_result"
    }
   ],
   "source": [
    "str1.count('a',3,6) #start=3 direc=+  last=6-1=5"
   ]
  },
  {
   "cell_type": "code",
   "execution_count": 13,
   "id": "00cb23a3-1487-4723-a7ec-de06492138ee",
   "metadata": {},
   "outputs": [
    {
     "data": {
      "text/plain": [
       "0"
      ]
     },
     "execution_count": 13,
     "metadata": {},
     "output_type": "execute_result"
    }
   ],
   "source": [
    "str1.count('a',-3,-1) #start=-3 direc=+  last=-3--1=-2"
   ]
  },
  {
   "cell_type": "code",
   "execution_count": 15,
   "id": "f6dbdbe6-a6a6-4094-aa34-31a7a7357876",
   "metadata": {},
   "outputs": [
    {
     "data": {
      "text/plain": [
       "0"
      ]
     },
     "execution_count": 15,
     "metadata": {},
     "output_type": "execute_result"
    }
   ],
   "source": [
    "str1.count('2')"
   ]
  },
  {
   "cell_type": "markdown",
   "id": "ee2ef2c4-e750-4eba-bbb9-45cbed19177a",
   "metadata": {},
   "source": [
    "**slicing window approach**\n",
    "- fix the slice value first : **str1[i:i+3]**\n",
    "- then increse the slice by 1 : **for in range(len(str1))**\n",
    "- whenever it is equal to substring : **str1[i:i+3]=='ola'**\n",
    "- then updaaate the count : **count=count+1**"
   ]
  },
  {
   "cell_type": "code",
   "execution_count": 23,
   "id": "76c4ecba-d878-400a-962e-954b78269776",
   "metadata": {},
   "outputs": [
    {
     "name": "stdout",
     "output_type": "stream",
     "text": [
      "3\n"
     ]
    }
   ],
   "source": [
    "str1='ola ola ola'\n",
    "count=0\n",
    "for i in range(len(str1)):\n",
    "    if str1[i:i+3]=='ola':\n",
    "        count=count+1\n",
    "print(count)\n",
    "\n",
    "#str1[i: i+3]=='ola' logic\n",
    "#str1[0:3]=='ola' is true"
   ]
  },
  {
   "cell_type": "markdown",
   "id": "718d1fc7-1aa5-49da-b35b-64395e32ad66",
   "metadata": {},
   "source": [
    "**replace**"
   ]
  },
  {
   "cell_type": "code",
   "execution_count": 25,
   "id": "d6bdf609-9066-488b-8597-941e1689319c",
   "metadata": {},
   "outputs": [
    {
     "data": {
      "text/plain": [
       "False"
      ]
     },
     "execution_count": 25,
     "metadata": {},
     "output_type": "execute_result"
    }
   ],
   "source": [
    "str1='welcome'\n",
    "str1[2]=='L'"
   ]
  },
  {
   "cell_type": "code",
   "execution_count": 27,
   "id": "2a195896-e355-4f2b-a4a0-c7d57be2be68",
   "metadata": {},
   "outputs": [
    {
     "data": {
      "text/plain": [
       "'weLcome'"
      ]
     },
     "execution_count": 27,
     "metadata": {},
     "output_type": "execute_result"
    }
   ],
   "source": [
    "str1.replace('l','L')"
   ]
  },
  {
   "cell_type": "code",
   "execution_count": 29,
   "id": "29888e16-b4d3-47dc-9b3c-04fc4db8f19a",
   "metadata": {},
   "outputs": [
    {
     "data": {
      "text/plain": [
       "'welcome'"
      ]
     },
     "execution_count": 29,
     "metadata": {},
     "output_type": "execute_result"
    }
   ],
   "source": [
    "str1.replace('z','Z')"
   ]
  },
  {
   "cell_type": "code",
   "execution_count": 30,
   "id": "5feab72b-057d-4906-a238-03ca6ae9c873",
   "metadata": {},
   "outputs": [
    {
     "data": {
      "text/plain": [
       "'weLLLcome'"
      ]
     },
     "execution_count": 30,
     "metadata": {},
     "output_type": "execute_result"
    }
   ],
   "source": [
    "str1='welllcome'\n",
    "str1.replace('l','L')"
   ]
  },
  {
   "cell_type": "code",
   "execution_count": 31,
   "id": "fe989471-5e7b-4267-9b7b-d206269aefc9",
   "metadata": {},
   "outputs": [
    {
     "data": {
      "text/plain": [
       "'weLllcome'"
      ]
     },
     "execution_count": 31,
     "metadata": {},
     "output_type": "execute_result"
    }
   ],
   "source": [
    "str1='welllcome'\n",
    "str1.replace('l','L',1)"
   ]
  },
  {
   "cell_type": "code",
   "execution_count": 32,
   "id": "ccd96861-ce18-49f8-861a-beb6e2859dc9",
   "metadata": {},
   "outputs": [
    {
     "data": {
      "text/plain": [
       "'weLLlcome'"
      ]
     },
     "execution_count": 32,
     "metadata": {},
     "output_type": "execute_result"
    }
   ],
   "source": [
    "str1='welllcome'\n",
    "str1.replace('l','L',2)"
   ]
  },
  {
   "cell_type": "markdown",
   "id": "bffa64db-37a0-4fa1-9d5f-adf16011da15",
   "metadata": {},
   "source": [
    "- by default it will replace all the occurance\n",
    "- the user can provide count which indicates  how many letter can replace\n",
    "- if the substring not found it will replace the orginal string itself"
   ]
  },
  {
   "cell_type": "code",
   "execution_count": 39,
   "id": "a6c9348a-9fd5-4acc-b6ad-6be12de956e6",
   "metadata": {},
   "outputs": [
    {
     "data": {
      "text/plain": [
       "'$esta$t'"
      ]
     },
     "execution_count": 39,
     "metadata": {},
     "output_type": "execute_result"
    }
   ],
   "source": [
    "str1='restart'\n",
    "str1.replace('r','$',2)"
   ]
  },
  {
   "cell_type": "code",
   "execution_count": 43,
   "id": "01eb227c-b62a-4c1c-b66d-af34705fad36",
   "metadata": {},
   "outputs": [
    {
     "data": {
      "text/plain": [
       "'resta$t'"
      ]
     },
     "execution_count": 43,
     "metadata": {},
     "output_type": "execute_result"
    }
   ],
   "source": [
    "str1='restart'  #second'r'\n",
    "s1=str1[0:5]   #resta\n",
    "s2=str1[5:]    #rt\n",
    "s3=s2.replace('r','$')\n",
    "s1+s3"
   ]
  },
  {
   "cell_type": "code",
   "execution_count": 45,
   "id": "0bac3847-8901-4e4c-87f4-a4114b5b94f3",
   "metadata": {},
   "outputs": [
    {
     "data": {
      "text/plain": [
       "'resta$t'"
      ]
     },
     "execution_count": 45,
     "metadata": {},
     "output_type": "execute_result"
    }
   ],
   "source": [
    "str1='restart'\n",
    "str1[::-1].replace('r','$',1)[::-1] ## but it will not works when thre is two or more words"
   ]
  },
  {
   "cell_type": "markdown",
   "id": "e8aeb9b8-bde3-4623-8807-87dcfad84e62",
   "metadata": {},
   "source": [
    "**index**"
   ]
  },
  {
   "cell_type": "code",
   "execution_count": 49,
   "id": "bbec050d-bdd2-493b-9620-0890ab0cbc7b",
   "metadata": {},
   "outputs": [
    {
     "data": {
      "text/plain": [
       "(0, 3)"
      ]
     },
     "execution_count": 49,
     "metadata": {},
     "output_type": "execute_result"
    }
   ],
   "source": [
    "str1='restart restart' \n",
    "str1.index('r'),str1.index('t')\n",
    "#by default first string index will come  "
   ]
  },
  {
   "cell_type": "code",
   "execution_count": 50,
   "id": "664c7fff-d524-4ce3-9729-80fd145d11c1",
   "metadata": {},
   "outputs": [
    {
     "ename": "ValueError",
     "evalue": "substring not found",
     "output_type": "error",
     "traceback": [
      "\u001b[1;31m---------------------------------------------------------------------------\u001b[0m",
      "\u001b[1;31mValueError\u001b[0m                                Traceback (most recent call last)",
      "Cell \u001b[1;32mIn[50], line 2\u001b[0m\n\u001b[0;32m      1\u001b[0m str1\u001b[38;5;241m=\u001b[39m\u001b[38;5;124m'\u001b[39m\u001b[38;5;124mrestart\u001b[39m\u001b[38;5;124m'\u001b[39m\n\u001b[1;32m----> 2\u001b[0m str1\u001b[38;5;241m.\u001b[39mindex(\u001b[38;5;124m'\u001b[39m\u001b[38;5;124mz\u001b[39m\u001b[38;5;124m'\u001b[39m)\n",
      "\u001b[1;31mValueError\u001b[0m: substring not found"
     ]
    }
   ],
   "source": [
    "str1='restart'\n",
    "str1.index('z')"
   ]
  },
  {
   "cell_type": "code",
   "execution_count": 52,
   "id": "7a78e9dc-2b1a-47d3-b770-6f4429175e73",
   "metadata": {},
   "outputs": [
    {
     "data": {
      "text/plain": [
       "0"
      ]
     },
     "execution_count": 52,
     "metadata": {},
     "output_type": "execute_result"
    }
   ],
   "source": [
    "str1='restart reatart'\n",
    "str1.index('r')"
   ]
  },
  {
   "cell_type": "code",
   "execution_count": 53,
   "id": "c190aa54-2e07-4c17-ae51-5ee37e2c5435",
   "metadata": {},
   "outputs": [
    {
     "data": {
      "text/plain": [
       "5"
      ]
     },
     "execution_count": 53,
     "metadata": {},
     "output_type": "execute_result"
    }
   ],
   "source": [
    "str1='restart reatart'\n",
    "str1.index('r',1)   # because i already seen 0 =0+1"
   ]
  },
  {
   "cell_type": "code",
   "execution_count": 54,
   "id": "254b76b4-b071-45b2-96b5-16e66db90ac8",
   "metadata": {},
   "outputs": [
    {
     "data": {
      "text/plain": [
       "8"
      ]
     },
     "execution_count": 54,
     "metadata": {},
     "output_type": "execute_result"
    }
   ],
   "source": [
    "str1='restart reatart'\n",
    "str1.index('r',6)   # because i already seen 5 =5+1"
   ]
  },
  {
   "cell_type": "code",
   "execution_count": 55,
   "id": "a77966ee-dfde-422b-b4d8-4e01a2a969e6",
   "metadata": {},
   "outputs": [
    {
     "name": "stdout",
     "output_type": "stream",
     "text": [
      "0 5 8 13\n"
     ]
    }
   ],
   "source": [
    "str1='restart reatart'\n",
    "i1=str1.index('r')  #0\n",
    "i2=str1.index('r',i1+1)   # 0+1=1\n",
    "i3=str1.index('r',i2+2)   #1+5=6\n",
    "i4=str1.index('r',i3+1)    #7+1=8\n",
    "print(i1,i2,i3,i4)"
   ]
  },
  {
   "cell_type": "markdown",
   "id": "88f65141-a5f8-4d40-a444-7403c4da328d",
   "metadata": {},
   "source": [
    "**find**"
   ]
  },
  {
   "cell_type": "markdown",
   "id": "de1a9e6b-f635-4faf-8431-34ae4533f7e1",
   "metadata": {},
   "source": [
    "- tell me the difference b/w the index and find"
   ]
  },
  {
   "cell_type": "code",
   "execution_count": 60,
   "id": "4c7b2cb6-ae69-4a2c-a1d2-7933253eba16",
   "metadata": {},
   "outputs": [
    {
     "data": {
      "text/plain": [
       "-1"
      ]
     },
     "execution_count": 60,
     "metadata": {},
     "output_type": "execute_result"
    }
   ],
   "source": [
    "str1='restart'\n",
    "str1.find('z')"
   ]
  },
  {
   "cell_type": "code",
   "execution_count": null,
   "id": "b2d2ec91-df3a-4e69-a665-d9145d9a0d73",
   "metadata": {},
   "outputs": [],
   "source": [
    "#count find index replace"
   ]
  },
  {
   "cell_type": "code",
   "execution_count": 20,
   "id": "11690a76-36bf-4e5b-98fb-239267ab8256",
   "metadata": {},
   "outputs": [
    {
     "name": "stdout",
     "output_type": "stream",
     "text": [
      "5 11 15\n",
      "virat kholi rcb\n"
     ]
    }
   ],
   "source": [
    "#str1='virat.kholi@rcb.com'\n",
    "#str2='rohit.sharma@mi.com'\n",
    "#str3='ms.dhoni@csk.com'\n",
    "#first name\n",
    "#second name\n",
    "#company name\n",
    "#str4='a.b@c.com'\n",
    "\n",
    "\n",
    "str1='virat.kholi@rcb.com'\n",
    "i1=str1.index('.')\n",
    "i2=str1.index('@',i1+1)\n",
    "i3=str1.index('.',i2+1)\n",
    "print(i1,i2,i3)\n",
    "\n",
    "s1=str1[0:i1]\n",
    "s2=str1[6:i2]\n",
    "s3=str1[12:i3]\n",
    "print(s1,s2,s3)"
   ]
  },
  {
   "cell_type": "code",
   "execution_count": 41,
   "id": "08305951-74d4-4687-8e6d-fafec4d4d762",
   "metadata": {},
   "outputs": [
    {
     "name": "stdout",
     "output_type": "stream",
     "text": [
      "1\n",
      "a\n",
      "3\n",
      "b\n",
      "5\n",
      "c\n"
     ]
    }
   ],
   "source": [
    "str2='rohit.sharma@mi.com'\n",
    "def extract(str2):\n",
    "    first_dot=str2.index('.')\n",
    "    print(first_dot)\n",
    "    first_name=str2[0:first_dot]\n",
    "    print(first_name)\n",
    "    second_dot=str2.index('@')\n",
    "    print(second_dot)\n",
    "    second_name=str2[first_dot+1:second_dot]\n",
    "    print(second_name)\n",
    "    last_dot=str2.index('.',first_dot+1)\n",
    "    print(last_dot)\n",
    "    last_name=str2[second_dot+1:last_dot]\n",
    "    print(last_name)\n",
    "extract('a.b@c.com')"
   ]
  },
  {
   "cell_type": "markdown",
   "id": "91d4ea72-7c6c-45bc-bc41-03fa175faa91",
   "metadata": {},
   "source": [
    "**split**"
   ]
  },
  {
   "cell_type": "markdown",
   "id": "bc01cf21-366f-4139-be3d-d1b7f17ac162",
   "metadata": {},
   "source": [
    "- split is used to convert a string to list of element\n",
    "- by default it will split based on space"
   ]
  },
  {
   "cell_type": "code",
   "execution_count": 43,
   "id": "2a16666d-337e-414d-b860-06d5e6df5332",
   "metadata": {},
   "outputs": [
    {
     "data": {
      "text/plain": [
       "['hi', 'how', 'are', 'you']"
      ]
     },
     "execution_count": 43,
     "metadata": {},
     "output_type": "execute_result"
    }
   ],
   "source": [
    "str1='hi how are you'\n",
    "str1.split()"
   ]
  },
  {
   "cell_type": "code",
   "execution_count": 44,
   "id": "8b918d3e-bc1d-4318-902d-bbd065d6c463",
   "metadata": {},
   "outputs": [
    {
     "data": {
      "text/plain": [
       "['hi how', 'are you']"
      ]
     },
     "execution_count": 44,
     "metadata": {},
     "output_type": "execute_result"
    }
   ],
   "source": [
    "str1='hi how,are you'\n",
    "str1.split(',')"
   ]
  },
  {
   "cell_type": "code",
   "execution_count": 45,
   "id": "f0fcf3f4-ba09-4bc8-8a85-3e1c8c1caa9b",
   "metadata": {},
   "outputs": [
    {
     "data": {
      "text/plain": [
       "['hi', 'how,are', 'you']"
      ]
     },
     "execution_count": 45,
     "metadata": {},
     "output_type": "execute_result"
    }
   ],
   "source": [
    "str1='hi how,are you'\n",
    "str1.split()"
   ]
  },
  {
   "cell_type": "code",
   "execution_count": 46,
   "id": "f858c9d7-6f49-4406-b2b5-a5fd734fb6e4",
   "metadata": {},
   "outputs": [
    {
     "data": {
      "text/plain": [
       "['hell', ' hi h', 'w are y', 'u']"
      ]
     },
     "execution_count": 46,
     "metadata": {},
     "output_type": "execute_result"
    }
   ],
   "source": [
    "str1='hello hi how are you'\n",
    "str1.split('o')"
   ]
  },
  {
   "cell_type": "markdown",
   "id": "5553bdc1-6350-4761-8b00-c5901f89d398",
   "metadata": {},
   "source": [
    "**join**"
   ]
  },
  {
   "cell_type": "code",
   "execution_count": 54,
   "id": "617598f1-217a-449a-83ab-b332774088aa",
   "metadata": {},
   "outputs": [
    {
     "data": {
      "text/plain": [
       "'hi how are you'"
      ]
     },
     "execution_count": 54,
     "metadata": {},
     "output_type": "execute_result"
    }
   ],
   "source": [
    "str1='hi how are you'\n",
    "l=str1.split()\n",
    "l\n",
    "' '.join(l)"
   ]
  },
  {
   "cell_type": "code",
   "execution_count": 55,
   "id": "45a6433b-e4fc-47cf-ae4f-aa56d7b47ae5",
   "metadata": {},
   "outputs": [
    {
     "data": {
      "text/plain": [
       "'hi****how****are****you'"
      ]
     },
     "execution_count": 55,
     "metadata": {},
     "output_type": "execute_result"
    }
   ],
   "source": [
    "str1='hi how are you'\n",
    "l=str1.split()\n",
    "l\n",
    "'****'.join(l)"
   ]
  },
  {
   "cell_type": "code",
   "execution_count": 60,
   "id": "5ecb291e-957b-4114-b3cc-541cc7696d6d",
   "metadata": {},
   "outputs": [
    {
     "data": {
      "text/plain": [
       "'hello hi how are you'"
      ]
     },
     "execution_count": 60,
     "metadata": {},
     "output_type": "execute_result"
    }
   ],
   "source": [
    "str1='hello hi how are you'\n",
    "l=str1.split('o')\n",
    "l\n",
    "'o'.join(l)"
   ]
  },
  {
   "cell_type": "code",
   "execution_count": 59,
   "id": "f994a65a-c5f3-4852-bce2-1599aaf825ff",
   "metadata": {},
   "outputs": [
    {
     "data": {
      "text/plain": [
       "'hello hi ,how are you'"
      ]
     },
     "execution_count": 59,
     "metadata": {},
     "output_type": "execute_result"
    }
   ],
   "source": [
    "str1='hello hi,how are you'\n",
    "l=str1.split(',')\n",
    "l\n",
    "' ,'.join(l)"
   ]
  },
  {
   "cell_type": "code",
   "execution_count": 65,
   "id": "80f2f2b5-d850-4ec8-a8bb-29fd35197bd3",
   "metadata": {},
   "outputs": [
    {
     "data": {
      "text/plain": [
       "['__add__',\n",
       " '__class__',\n",
       " '__contains__',\n",
       " '__delattr__',\n",
       " '__dir__',\n",
       " '__doc__',\n",
       " '__eq__',\n",
       " '__format__',\n",
       " '__ge__',\n",
       " '__getattribute__',\n",
       " '__getitem__',\n",
       " '__getnewargs__',\n",
       " '__getstate__',\n",
       " '__gt__',\n",
       " '__hash__',\n",
       " '__init__',\n",
       " '__init_subclass__',\n",
       " '__iter__',\n",
       " '__le__',\n",
       " '__len__',\n",
       " '__lt__',\n",
       " '__mod__',\n",
       " '__mul__',\n",
       " '__ne__',\n",
       " '__new__',\n",
       " '__reduce__',\n",
       " '__reduce_ex__',\n",
       " '__repr__',\n",
       " '__rmod__',\n",
       " '__rmul__',\n",
       " '__setattr__',\n",
       " '__sizeof__',\n",
       " '__str__',\n",
       " '__subclasshook__',\n",
       " 'capitalize',\n",
       " 'casefold',\n",
       " 'center',\n",
       " 'count',\n",
       " 'encode',\n",
       " 'endswith',\n",
       " 'expandtabs',\n",
       " 'find',\n",
       " 'format',\n",
       " 'format_map',\n",
       " 'index',\n",
       " 'isalnum',\n",
       " 'isalpha',\n",
       " 'isascii',\n",
       " 'isdecimal',\n",
       " 'isdigit',\n",
       " 'isidentifier',\n",
       " 'islower',\n",
       " 'isnumeric',\n",
       " 'isprintable',\n",
       " 'isspace',\n",
       " 'istitle',\n",
       " 'isupper',\n",
       " 'join',\n",
       " 'ljust',\n",
       " 'lower',\n",
       " 'lstrip',\n",
       " 'maketrans',\n",
       " 'partition',\n",
       " 'removeprefix',\n",
       " 'removesuffix',\n",
       " 'replace',\n",
       " 'rfind',\n",
       " 'rindex',\n",
       " 'rjust',\n",
       " 'rpartition',\n",
       " 'rsplit',\n",
       " 'rstrip',\n",
       " 'split',\n",
       " 'splitlines',\n",
       " 'startswith',\n",
       " 'strip',\n",
       " 'swapcase',\n",
       " 'title',\n",
       " 'translate',\n",
       " 'upper',\n",
       " 'zfill']"
      ]
     },
     "execution_count": 65,
     "metadata": {},
     "output_type": "execute_result"
    }
   ],
   "source": [
    "dir(' ')"
   ]
  },
  {
   "cell_type": "code",
   "execution_count": 3,
   "id": "99b65d3d-7b74-4573-a4e2-e3604bd199fe",
   "metadata": {},
   "outputs": [
    {
     "data": {
      "text/plain": [
       "False"
      ]
     },
     "execution_count": 3,
     "metadata": {},
     "output_type": "execute_result"
    }
   ],
   "source": [
    "str1='the telephone number is 123456'\n",
    "str1.isdigit()"
   ]
  },
  {
   "cell_type": "code",
   "execution_count": 6,
   "id": "8588a7fe-7614-4fe4-8eb1-e4192d12b0a9",
   "metadata": {},
   "outputs": [
    {
     "name": "stdout",
     "output_type": "stream",
     "text": [
      "1 2 3 4 5 6 "
     ]
    }
   ],
   "source": [
    "#split question\n",
    "str1='the telephone number is 123456'\n",
    "s1=''\n",
    "for i in str1:\n",
    "    if i.isdigit():\n",
    "        print(i,end=' ')"
   ]
  },
  {
   "cell_type": "code",
   "execution_count": null,
   "id": "03866b42-3344-4f03-aa61-8d8e95b6f43a",
   "metadata": {},
   "outputs": [],
   "source": []
  }
 ],
 "metadata": {
  "kernelspec": {
   "display_name": "Python 3 (ipykernel)",
   "language": "python",
   "name": "python3"
  },
  "language_info": {
   "codemirror_mode": {
    "name": "ipython",
    "version": 3
   },
   "file_extension": ".py",
   "mimetype": "text/x-python",
   "name": "python",
   "nbconvert_exporter": "python",
   "pygments_lexer": "ipython3",
   "version": "3.12.7"
  }
 },
 "nbformat": 4,
 "nbformat_minor": 5
}
